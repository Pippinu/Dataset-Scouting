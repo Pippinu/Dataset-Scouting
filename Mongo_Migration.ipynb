{
 "cells": [
  {
   "cell_type": "code",
   "execution_count": 1,
   "id": "6ba5529a",
   "metadata": {},
   "outputs": [],
   "source": [
    "import csv\n",
    "import json"
   ]
  },
  {
   "cell_type": "code",
   "execution_count": 2,
   "id": "5194d407",
   "metadata": {},
   "outputs": [],
   "source": [
    "def create_country_code_map(country_file_path):\n",
    "    \"\"\"\n",
    "    Reads the Country-Code.csv file and returns a dictionary\n",
    "    mapping country codes (as integers) to country names.\n",
    "    \"\"\"\n",
    "    country_map = {}\n",
    "    try:\n",
    "        with open(country_file_path, mode='r', encoding='utf-8') as csvfile:\n",
    "            reader = csv.DictReader(csvfile)\n",
    "            for row in reader:\n",
    "                try:\n",
    "                    # Assuming column names are 'Country Code' and 'Country'\n",
    "                    country_code = int(row['country_code'])\n",
    "                    country_map[country_code] = row['country']\n",
    "                except ValueError:\n",
    "                    print(f\"Warning: Could not parse country code in {country_file_path}: {row['country_code']}\")\n",
    "                except KeyError:\n",
    "                    print(f\"Warning: 'Country Code' or 'Country' column missing in {country_file_path}.\")\n",
    "                    return None # Indicate critical error\n",
    "    except FileNotFoundError:\n",
    "        print(f\"Error: Country code file not found at {country_file_path}\")\n",
    "        return None\n",
    "    return country_map"
   ]
  },
  {
   "cell_type": "code",
   "execution_count": 3,
   "id": "eba506e5",
   "metadata": {},
   "outputs": [],
   "source": [
    "def transform_data(data_file_path, country_map, output_file_path):\n",
    "    \"\"\"\n",
    "    Reads new_dataset.csv, transforms each row into the desired\n",
    "    MongoDB document structure, and writes it to an output JSON Lines file.\n",
    "    \"\"\"\n",
    "    if country_map is None:\n",
    "        print(\"Error: Country map is not available. Aborting transformation.\")\n",
    "        return\n",
    "\n",
    "    transformed_count = 0\n",
    "    try:\n",
    "        with open(data_file_path, mode='r', encoding='utf-8') as infile, \\\n",
    "             open(output_file_path, mode='w', encoding='utf-8') as outfile:\n",
    "            \n",
    "            reader = csv.DictReader(infile)\n",
    "            \n",
    "            # Verify expected columns (adjust based on your actual new_dataset.csv headers)\n",
    "            expected_headers = [\n",
    "                'restaurant_id', 'restaurant_name', 'country_code', 'city', 'address',\n",
    "                'locality', 'locality_verbose', 'longitude', 'latitude', 'cuisines',\n",
    "                'average_cost_for_two', 'currency', 'has_table_booking', 'has_online_delivery',\n",
    "                'is_delivering_now', 'switch_to_order_menu', 'price_range', 'aggregate_rating',\n",
    "                'rating_color', 'rating_text', 'votes'\n",
    "            ]\n",
    "            missing_headers = [h for h in expected_headers if h not in reader.fieldnames]\n",
    "            if missing_headers:\n",
    "                print(f\"Warning: The following expected columns are missing from {data_file_path}: {', '.join(missing_headers)}\")\n",
    "                print(\"Please ensure your CSV column names match. Script will attempt to proceed but may fail or produce incomplete documents.\")\n",
    "\n",
    "            for row in reader:\n",
    "                try:\n",
    "                    country_code_val = int(row.get('country_code', 0)) # Default to 0 if missing, handle error below\n",
    "                    \n",
    "                    # Handle cuisines: split by comma, strip whitespace\n",
    "                    cuisines_str = row.get('cuisines', '')\n",
    "                    cuisines_list = [c.strip() for c in cuisines_str.split(',') if c.strip()] if cuisines_str else []\n",
    "\n",
    "                    mongo_doc = {\n",
    "                        # Using original 'Restaurant ID' as a field, MongoDB will generate its own _id\n",
    "                        \"restaurant_id\": int(row.get('restaurant_id')),\n",
    "                        \"restaurant_name\": row.get('restaurant_name', ''),\n",
    "                        \"address\": {\n",
    "                            \"street\": row.get('address', ''),\n",
    "                            \"city\": row.get('city', ''),\n",
    "                            \"locality\": row.get('locality', ''),\n",
    "                            \"locality_verbose\": row.get('locality_verbose', ''),\n",
    "                            \"country_code\": country_code_val,\n",
    "                            \"country_name\": country_map.get(country_code_val, \"Unknown Country\") # Get country name from map\n",
    "                        },\n",
    "                        \"location\": {\n",
    "                            \"type\": \"Point\",\n",
    "                            \"coordinates\": [\n",
    "                                float(row.get('longitude', 0.0)),\n",
    "                                float(row.get('latitude', 0.0))\n",
    "                            ]\n",
    "                        },\n",
    "                        \"cuisines\": cuisines_list,\n",
    "                        \"average_cost_for_two\": int(row.get('average_cost_for_two', 0)),\n",
    "                        \"rating_details\": {\n",
    "                            \"aggregate_rating\": float(row.get('aggregate_rating', 0.0)),\n",
    "                            \"rating_color\": row.get('rating_color', ''),\n",
    "                            \"rating_text\": row.get('rating_text', ''),\n",
    "                            \"votes\": int(row.get('votes', 0)),\n",
    "                            \"price_range\": int(row.get('price_range', 0)),\n",
    "                            \"currency\": row.get('currency', '')\n",
    "                        }\n",
    "                        # The fields 'Has Table booking' and 'Has Online delivery' were noted\n",
    "                        # as dropped in your Dataset_EDA.ipynb. If they exist in your\n",
    "                        # new_dataset.csv and you want to include them, add them here.\n",
    "                        # Example:\n",
    "                        # \"has_table_booking\": True if row.get('Has Table booking', 'No').lower() == 'yes' else False,\n",
    "                        # \"has_online_delivery\": True if row.get('Has Online delivery', 'No').lower() == 'yes' else False,\n",
    "                    }\n",
    "                    \n",
    "                    # Write the JSON document to the output file, one per line\n",
    "                    outfile.write(json.dumps(mongo_doc) + '\\n')\n",
    "                    transformed_count += 1\n",
    "                except ValueError as ve:\n",
    "                    print(f\"Warning: Skipping row due to data conversion error (ValueError): {ve} - Row: {row}\")\n",
    "                except KeyError as ke:\n",
    "                    print(f\"Warning: Skipping row due to missing key (KeyError): {ke} - Row: {row}\")\n",
    "                except Exception as e:\n",
    "                    print(f\"Warning: Skipping row due to unexpected error: {e} - Row: {row}\")\n",
    "            \n",
    "            print(f\"Successfully transformed {transformed_count} documents.\")\n",
    "\n",
    "    except FileNotFoundError:\n",
    "        print(f\"Error: Data file not found at {data_file_path}\")\n",
    "    except Exception as e:\n",
    "        print(f\"An unexpected error occurred during transformation: {e}\")\n"
   ]
  },
  {
   "cell_type": "code",
   "execution_count": 4,
   "id": "93138efb",
   "metadata": {},
   "outputs": [
    {
     "name": "stdout",
     "output_type": "stream",
     "text": [
      "Starting data migration process...\n",
      "Country code map created with 15 entries.\n"
     ]
    },
    {
     "name": "stdout",
     "output_type": "stream",
     "text": [
      "Successfully transformed 9551 documents.\n",
      "Transformation complete. Output written to restaurants_mongo.jsonl\n",
      "You can now import 'restaurants_mongo.jsonl' into MongoDB.\n"
     ]
    }
   ],
   "source": [
    "country_csv_file = 'Country-Code.csv' # Ensure this file is in the same directory or provide full path\n",
    "data_csv_file = 'new_dataset.csv'     # Ensure this file is in the same directory or provide full path\n",
    "output_jsonl_file = 'restaurants_mongo.jsonl'\n",
    "\n",
    "print(\"Starting data migration process...\")\n",
    "\n",
    "country_mapping = create_country_code_map(country_csv_file)\n",
    "\n",
    "if country_mapping:\n",
    "    print(f\"Country code map created with {len(country_mapping)} entries.\")\n",
    "    transform_data(data_csv_file, country_mapping, output_jsonl_file)\n",
    "    print(f\"Transformation complete. Output written to {output_jsonl_file}\")\n",
    "    print(f\"You can now import '{output_jsonl_file}' into MongoDB.\")\n",
    "else:\n",
    "    print(\"Could not create country mapping. Please check 'Country-Code.csv'.\")"
   ]
  },
  {
   "cell_type": "code",
   "execution_count": 5,
   "id": "3d867107",
   "metadata": {},
   "outputs": [
    {
     "name": "stdout",
     "output_type": "stream",
     "text": [
      "comparison_file.sql    optimized_queries.sql\tsetup_to_submit.sql\n",
      "Country-Code.csv       playground-1.mongodb.js\tslow_queries.sql\n",
      "Dataset_EDA.ipynb      playground-2.mongodb.js\ttest.R\n",
      "Mongo_Migration.ipynb  restaurants_mongo.jsonl\tzomato.csv\n",
      "new_dataset.csv        setup.sql\t\tzomato_mongo_pipelines.js\n"
     ]
    }
   ],
   "source": [
    "!ls"
   ]
  }
 ],
 "metadata": {
  "kernelspec": {
   "display_name": "base",
   "language": "python",
   "name": "python3"
  },
  "language_info": {
   "codemirror_mode": {
    "name": "ipython",
    "version": 3
   },
   "file_extension": ".py",
   "mimetype": "text/x-python",
   "name": "python",
   "nbconvert_exporter": "python",
   "pygments_lexer": "ipython3",
   "version": "3.12.7"
  }
 },
 "nbformat": 4,
 "nbformat_minor": 5
}
