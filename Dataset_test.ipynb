{
 "cells": [
  {
   "cell_type": "code",
   "execution_count": 2,
   "metadata": {},
   "outputs": [],
   "source": [
    "import pandas as pd"
   ]
  },
  {
   "cell_type": "markdown",
   "metadata": {},
   "source": [
    "### Mobile Dataset"
   ]
  },
  {
   "cell_type": "code",
   "execution_count": 3,
   "metadata": {},
   "outputs": [
    {
     "name": "stdout",
     "output_type": "stream",
     "text": [
      "Downloading from https://www.kaggle.com/api/v1/datasets/download/abdulmalik1518/mobiles-dataset-2025?dataset_version_number=1...\n"
     ]
    },
    {
     "name": "stderr",
     "output_type": "stream",
     "text": [
      "100%|██████████| 19.8k/19.8k [00:00<00:00, 6.50MB/s]"
     ]
    },
    {
     "name": "stdout",
     "output_type": "stream",
     "text": [
      "Extracting files...\n",
      "Path to dataset files: /home/alessio/.cache/kagglehub/datasets/abdulmalik1518/mobiles-dataset-2025/versions/1\n"
     ]
    },
    {
     "name": "stderr",
     "output_type": "stream",
     "text": [
      "\n"
     ]
    }
   ],
   "source": [
    "import kagglehub\n",
    "\n",
    "# Download latest version\n",
    "path = kagglehub.dataset_download(\"abdulmalik1518/mobiles-dataset-2025\")\n",
    "\n",
    "print(\"Path to dataset files:\", path)"
   ]
  },
  {
   "cell_type": "markdown",
   "metadata": {},
   "source": [
    "#### EDA"
   ]
  },
  {
   "cell_type": "code",
   "execution_count": 3,
   "metadata": {},
   "outputs": [],
   "source": [
    "df = pd.read_csv(\"./Mobiles Dataset (2025).csv\", encoding=\"ISO-8859-1\")"
   ]
  },
  {
   "cell_type": "code",
   "execution_count": 9,
   "metadata": {},
   "outputs": [
    {
     "data": {
      "text/plain": [
       "Index(['Company Name', 'Model Name', 'Mobile Weight', 'RAM', 'Front Camera',\n",
       "       'Back Camera', 'Processor', 'Battery Capacity', 'Screen Size',\n",
       "       'Launched Price (Pakistan)', 'Launched Price (India)',\n",
       "       'Launched Price (China)', 'Launched Price (USA)',\n",
       "       'Launched Price (Dubai)', 'Launched Year'],\n",
       "      dtype='object')"
      ]
     },
     "execution_count": 9,
     "metadata": {},
     "output_type": "execute_result"
    }
   ],
   "source": [
    "df.columns"
   ]
  },
  {
   "cell_type": "code",
   "execution_count": 4,
   "metadata": {},
   "outputs": [
    {
     "data": {
      "text/html": [
       "<div>\n",
       "<style scoped>\n",
       "    .dataframe tbody tr th:only-of-type {\n",
       "        vertical-align: middle;\n",
       "    }\n",
       "\n",
       "    .dataframe tbody tr th {\n",
       "        vertical-align: top;\n",
       "    }\n",
       "\n",
       "    .dataframe thead th {\n",
       "        text-align: right;\n",
       "    }\n",
       "</style>\n",
       "<table border=\"1\" class=\"dataframe\">\n",
       "  <thead>\n",
       "    <tr style=\"text-align: right;\">\n",
       "      <th></th>\n",
       "      <th>Company Name</th>\n",
       "      <th>Model Name</th>\n",
       "      <th>Mobile Weight</th>\n",
       "      <th>RAM</th>\n",
       "      <th>Front Camera</th>\n",
       "      <th>Back Camera</th>\n",
       "      <th>Processor</th>\n",
       "      <th>Battery Capacity</th>\n",
       "      <th>Screen Size</th>\n",
       "      <th>Launched Price (Pakistan)</th>\n",
       "      <th>Launched Price (India)</th>\n",
       "      <th>Launched Price (China)</th>\n",
       "      <th>Launched Price (USA)</th>\n",
       "      <th>Launched Price (Dubai)</th>\n",
       "      <th>Launched Year</th>\n",
       "    </tr>\n",
       "  </thead>\n",
       "  <tbody>\n",
       "    <tr>\n",
       "      <th>0</th>\n",
       "      <td>Apple</td>\n",
       "      <td>iPhone 16 128GB</td>\n",
       "      <td>174g</td>\n",
       "      <td>6GB</td>\n",
       "      <td>12MP</td>\n",
       "      <td>48MP</td>\n",
       "      <td>A17 Bionic</td>\n",
       "      <td>3,600mAh</td>\n",
       "      <td>6.1 inches</td>\n",
       "      <td>PKR 224,999</td>\n",
       "      <td>INR 79,999</td>\n",
       "      <td>CNY 5,799</td>\n",
       "      <td>USD 799</td>\n",
       "      <td>AED 2,799</td>\n",
       "      <td>2024</td>\n",
       "    </tr>\n",
       "    <tr>\n",
       "      <th>1</th>\n",
       "      <td>Apple</td>\n",
       "      <td>iPhone 16 256GB</td>\n",
       "      <td>174g</td>\n",
       "      <td>6GB</td>\n",
       "      <td>12MP</td>\n",
       "      <td>48MP</td>\n",
       "      <td>A17 Bionic</td>\n",
       "      <td>3,600mAh</td>\n",
       "      <td>6.1 inches</td>\n",
       "      <td>PKR 234,999</td>\n",
       "      <td>INR 84,999</td>\n",
       "      <td>CNY 6,099</td>\n",
       "      <td>USD 849</td>\n",
       "      <td>AED 2,999</td>\n",
       "      <td>2024</td>\n",
       "    </tr>\n",
       "    <tr>\n",
       "      <th>2</th>\n",
       "      <td>Apple</td>\n",
       "      <td>iPhone 16 512GB</td>\n",
       "      <td>174g</td>\n",
       "      <td>6GB</td>\n",
       "      <td>12MP</td>\n",
       "      <td>48MP</td>\n",
       "      <td>A17 Bionic</td>\n",
       "      <td>3,600mAh</td>\n",
       "      <td>6.1 inches</td>\n",
       "      <td>PKR 244,999</td>\n",
       "      <td>INR 89,999</td>\n",
       "      <td>CNY 6,499</td>\n",
       "      <td>USD 899</td>\n",
       "      <td>AED 3,199</td>\n",
       "      <td>2024</td>\n",
       "    </tr>\n",
       "    <tr>\n",
       "      <th>3</th>\n",
       "      <td>Apple</td>\n",
       "      <td>iPhone 16 Plus 128GB</td>\n",
       "      <td>203g</td>\n",
       "      <td>6GB</td>\n",
       "      <td>12MP</td>\n",
       "      <td>48MP</td>\n",
       "      <td>A17 Bionic</td>\n",
       "      <td>4,200mAh</td>\n",
       "      <td>6.7 inches</td>\n",
       "      <td>PKR 249,999</td>\n",
       "      <td>INR 89,999</td>\n",
       "      <td>CNY 6,199</td>\n",
       "      <td>USD 899</td>\n",
       "      <td>AED 3,199</td>\n",
       "      <td>2024</td>\n",
       "    </tr>\n",
       "    <tr>\n",
       "      <th>4</th>\n",
       "      <td>Apple</td>\n",
       "      <td>iPhone 16 Plus 256GB</td>\n",
       "      <td>203g</td>\n",
       "      <td>6GB</td>\n",
       "      <td>12MP</td>\n",
       "      <td>48MP</td>\n",
       "      <td>A17 Bionic</td>\n",
       "      <td>4,200mAh</td>\n",
       "      <td>6.7 inches</td>\n",
       "      <td>PKR 259,999</td>\n",
       "      <td>INR 94,999</td>\n",
       "      <td>CNY 6,499</td>\n",
       "      <td>USD 949</td>\n",
       "      <td>AED 3,399</td>\n",
       "      <td>2024</td>\n",
       "    </tr>\n",
       "  </tbody>\n",
       "</table>\n",
       "</div>"
      ],
      "text/plain": [
       "  Company Name            Model Name Mobile Weight  RAM Front Camera  \\\n",
       "0        Apple       iPhone 16 128GB          174g  6GB         12MP   \n",
       "1        Apple       iPhone 16 256GB          174g  6GB         12MP   \n",
       "2        Apple       iPhone 16 512GB          174g  6GB         12MP   \n",
       "3        Apple  iPhone 16 Plus 128GB          203g  6GB         12MP   \n",
       "4        Apple  iPhone 16 Plus 256GB          203g  6GB         12MP   \n",
       "\n",
       "  Back Camera   Processor Battery Capacity Screen Size  \\\n",
       "0        48MP  A17 Bionic         3,600mAh  6.1 inches   \n",
       "1        48MP  A17 Bionic         3,600mAh  6.1 inches   \n",
       "2        48MP  A17 Bionic         3,600mAh  6.1 inches   \n",
       "3        48MP  A17 Bionic         4,200mAh  6.7 inches   \n",
       "4        48MP  A17 Bionic         4,200mAh  6.7 inches   \n",
       "\n",
       "  Launched Price (Pakistan) Launched Price (India) Launched Price (China)  \\\n",
       "0               PKR 224,999             INR 79,999              CNY 5,799   \n",
       "1               PKR 234,999             INR 84,999              CNY 6,099   \n",
       "2               PKR 244,999             INR 89,999              CNY 6,499   \n",
       "3               PKR 249,999             INR 89,999              CNY 6,199   \n",
       "4               PKR 259,999             INR 94,999              CNY 6,499   \n",
       "\n",
       "  Launched Price (USA) Launched Price (Dubai)  Launched Year  \n",
       "0              USD 799              AED 2,799           2024  \n",
       "1              USD 849              AED 2,999           2024  \n",
       "2              USD 899              AED 3,199           2024  \n",
       "3              USD 899              AED 3,199           2024  \n",
       "4              USD 949              AED 3,399           2024  "
      ]
     },
     "execution_count": 4,
     "metadata": {},
     "output_type": "execute_result"
    }
   ],
   "source": [
    "df.head()"
   ]
  },
  {
   "cell_type": "code",
   "execution_count": 13,
   "metadata": {},
   "outputs": [
    {
     "data": {
      "text/plain": [
       "930"
      ]
     },
     "execution_count": 13,
     "metadata": {},
     "output_type": "execute_result"
    }
   ],
   "source": [
    "len(df)"
   ]
  },
  {
   "cell_type": "markdown",
   "metadata": {},
   "source": [
    "### Popular Games Steam 1980-2023"
   ]
  },
  {
   "cell_type": "code",
   "execution_count": 1,
   "metadata": {},
   "outputs": [
    {
     "name": "stdout",
     "output_type": "stream",
     "text": [
      "Downloading from https://www.kaggle.com/api/v1/datasets/download/arnabchaki/popular-video-games-1980-2023?dataset_version_number=1...\n"
     ]
    },
    {
     "name": "stderr",
     "output_type": "stream",
     "text": [
      "100%|██████████| 1.11M/1.11M [00:00<00:00, 1.43MB/s]"
     ]
    },
    {
     "name": "stdout",
     "output_type": "stream",
     "text": [
      "Extracting files...\n"
     ]
    },
    {
     "name": "stderr",
     "output_type": "stream",
     "text": [
      "\n"
     ]
    },
    {
     "name": "stdout",
     "output_type": "stream",
     "text": [
      "Path to dataset files: /home/alessio/.cache/kagglehub/datasets/arnabchaki/popular-video-games-1980-2023/versions/1\n"
     ]
    }
   ],
   "source": [
    "import kagglehub\n",
    "\n",
    "# Download latest version\n",
    "path = kagglehub.dataset_download(\"arnabchaki/popular-video-games-1980-2023\")\n",
    "\n",
    "print(\"Path to dataset files:\", path)"
   ]
  },
  {
   "cell_type": "code",
   "execution_count": 3,
   "metadata": {},
   "outputs": [],
   "source": [
    "import pandas as pd\n",
    "\n",
    "df_games = pd.read_csv('games.csv', nrows = 10000)"
   ]
  },
  {
   "cell_type": "code",
   "execution_count": 5,
   "metadata": {},
   "outputs": [
    {
     "data": {
      "text/plain": [
       "Index(['Unnamed: 0', 'Title', 'Release Date', 'Team', 'Rating', 'Times Listed',\n",
       "       'Number of Reviews', 'Genres', 'Summary', 'Reviews', 'Plays', 'Playing',\n",
       "       'Backlogs', 'Wishlist'],\n",
       "      dtype='object')"
      ]
     },
     "execution_count": 5,
     "metadata": {},
     "output_type": "execute_result"
    }
   ],
   "source": [
    "df_games.columns"
   ]
  },
  {
   "cell_type": "code",
   "execution_count": 7,
   "metadata": {},
   "outputs": [
    {
     "data": {
      "text/html": [
       "<div>\n",
       "<style scoped>\n",
       "    .dataframe tbody tr th:only-of-type {\n",
       "        vertical-align: middle;\n",
       "    }\n",
       "\n",
       "    .dataframe tbody tr th {\n",
       "        vertical-align: top;\n",
       "    }\n",
       "\n",
       "    .dataframe thead th {\n",
       "        text-align: right;\n",
       "    }\n",
       "</style>\n",
       "<table border=\"1\" class=\"dataframe\">\n",
       "  <thead>\n",
       "    <tr style=\"text-align: right;\">\n",
       "      <th></th>\n",
       "      <th>Unnamed: 0</th>\n",
       "      <th>Title</th>\n",
       "      <th>Release Date</th>\n",
       "      <th>Team</th>\n",
       "      <th>Rating</th>\n",
       "      <th>Times Listed</th>\n",
       "      <th>Number of Reviews</th>\n",
       "      <th>Genres</th>\n",
       "      <th>Summary</th>\n",
       "      <th>Reviews</th>\n",
       "      <th>Plays</th>\n",
       "      <th>Playing</th>\n",
       "      <th>Backlogs</th>\n",
       "      <th>Wishlist</th>\n",
       "    </tr>\n",
       "  </thead>\n",
       "  <tbody>\n",
       "    <tr>\n",
       "      <th>0</th>\n",
       "      <td>0</td>\n",
       "      <td>Elden Ring</td>\n",
       "      <td>Feb 25, 2022</td>\n",
       "      <td>['Bandai Namco Entertainment', 'FromSoftware']</td>\n",
       "      <td>4.5</td>\n",
       "      <td>3.9K</td>\n",
       "      <td>3.9K</td>\n",
       "      <td>['Adventure', 'RPG']</td>\n",
       "      <td>Elden Ring is a fantasy, action and open world...</td>\n",
       "      <td>[\"The first playthrough of elden ring is one o...</td>\n",
       "      <td>17K</td>\n",
       "      <td>3.8K</td>\n",
       "      <td>4.6K</td>\n",
       "      <td>4.8K</td>\n",
       "    </tr>\n",
       "    <tr>\n",
       "      <th>1</th>\n",
       "      <td>1</td>\n",
       "      <td>Hades</td>\n",
       "      <td>Dec 10, 2019</td>\n",
       "      <td>['Supergiant Games']</td>\n",
       "      <td>4.3</td>\n",
       "      <td>2.9K</td>\n",
       "      <td>2.9K</td>\n",
       "      <td>['Adventure', 'Brawler', 'Indie', 'RPG']</td>\n",
       "      <td>A rogue-lite hack and slash dungeon crawler in...</td>\n",
       "      <td>['convinced this is a roguelike for people who...</td>\n",
       "      <td>21K</td>\n",
       "      <td>3.2K</td>\n",
       "      <td>6.3K</td>\n",
       "      <td>3.6K</td>\n",
       "    </tr>\n",
       "    <tr>\n",
       "      <th>2</th>\n",
       "      <td>2</td>\n",
       "      <td>The Legend of Zelda: Breath of the Wild</td>\n",
       "      <td>Mar 03, 2017</td>\n",
       "      <td>['Nintendo', 'Nintendo EPD Production Group No...</td>\n",
       "      <td>4.4</td>\n",
       "      <td>4.3K</td>\n",
       "      <td>4.3K</td>\n",
       "      <td>['Adventure', 'RPG']</td>\n",
       "      <td>The Legend of Zelda: Breath of the Wild is the...</td>\n",
       "      <td>['This game is the game (that is not CS:GO) th...</td>\n",
       "      <td>30K</td>\n",
       "      <td>2.5K</td>\n",
       "      <td>5K</td>\n",
       "      <td>2.6K</td>\n",
       "    </tr>\n",
       "    <tr>\n",
       "      <th>3</th>\n",
       "      <td>3</td>\n",
       "      <td>Undertale</td>\n",
       "      <td>Sep 15, 2015</td>\n",
       "      <td>['tobyfox', '8-4']</td>\n",
       "      <td>4.2</td>\n",
       "      <td>3.5K</td>\n",
       "      <td>3.5K</td>\n",
       "      <td>['Adventure', 'Indie', 'RPG', 'Turn Based Stra...</td>\n",
       "      <td>A small child falls into the Underground, wher...</td>\n",
       "      <td>['soundtrack is tied for #1 with nier automata...</td>\n",
       "      <td>28K</td>\n",
       "      <td>679</td>\n",
       "      <td>4.9K</td>\n",
       "      <td>1.8K</td>\n",
       "    </tr>\n",
       "    <tr>\n",
       "      <th>4</th>\n",
       "      <td>4</td>\n",
       "      <td>Hollow Knight</td>\n",
       "      <td>Feb 24, 2017</td>\n",
       "      <td>['Team Cherry']</td>\n",
       "      <td>4.4</td>\n",
       "      <td>3K</td>\n",
       "      <td>3K</td>\n",
       "      <td>['Adventure', 'Indie', 'Platform']</td>\n",
       "      <td>A 2D metroidvania with an emphasis on close co...</td>\n",
       "      <td>[\"this games worldbuilding is incredible, with...</td>\n",
       "      <td>21K</td>\n",
       "      <td>2.4K</td>\n",
       "      <td>8.3K</td>\n",
       "      <td>2.3K</td>\n",
       "    </tr>\n",
       "  </tbody>\n",
       "</table>\n",
       "</div>"
      ],
      "text/plain": [
       "   Unnamed: 0                                    Title  Release Date  \\\n",
       "0           0                               Elden Ring  Feb 25, 2022   \n",
       "1           1                                    Hades  Dec 10, 2019   \n",
       "2           2  The Legend of Zelda: Breath of the Wild  Mar 03, 2017   \n",
       "3           3                                Undertale  Sep 15, 2015   \n",
       "4           4                            Hollow Knight  Feb 24, 2017   \n",
       "\n",
       "                                                Team  Rating Times Listed  \\\n",
       "0     ['Bandai Namco Entertainment', 'FromSoftware']     4.5         3.9K   \n",
       "1                               ['Supergiant Games']     4.3         2.9K   \n",
       "2  ['Nintendo', 'Nintendo EPD Production Group No...     4.4         4.3K   \n",
       "3                                 ['tobyfox', '8-4']     4.2         3.5K   \n",
       "4                                    ['Team Cherry']     4.4           3K   \n",
       "\n",
       "  Number of Reviews                                             Genres  \\\n",
       "0              3.9K                               ['Adventure', 'RPG']   \n",
       "1              2.9K           ['Adventure', 'Brawler', 'Indie', 'RPG']   \n",
       "2              4.3K                               ['Adventure', 'RPG']   \n",
       "3              3.5K  ['Adventure', 'Indie', 'RPG', 'Turn Based Stra...   \n",
       "4                3K                 ['Adventure', 'Indie', 'Platform']   \n",
       "\n",
       "                                             Summary  \\\n",
       "0  Elden Ring is a fantasy, action and open world...   \n",
       "1  A rogue-lite hack and slash dungeon crawler in...   \n",
       "2  The Legend of Zelda: Breath of the Wild is the...   \n",
       "3  A small child falls into the Underground, wher...   \n",
       "4  A 2D metroidvania with an emphasis on close co...   \n",
       "\n",
       "                                             Reviews Plays Playing Backlogs  \\\n",
       "0  [\"The first playthrough of elden ring is one o...   17K    3.8K     4.6K   \n",
       "1  ['convinced this is a roguelike for people who...   21K    3.2K     6.3K   \n",
       "2  ['This game is the game (that is not CS:GO) th...   30K    2.5K       5K   \n",
       "3  ['soundtrack is tied for #1 with nier automata...   28K     679     4.9K   \n",
       "4  [\"this games worldbuilding is incredible, with...   21K    2.4K     8.3K   \n",
       "\n",
       "  Wishlist  \n",
       "0     4.8K  \n",
       "1     3.6K  \n",
       "2     2.6K  \n",
       "3     1.8K  \n",
       "4     2.3K  "
      ]
     },
     "execution_count": 7,
     "metadata": {},
     "output_type": "execute_result"
    }
   ],
   "source": [
    "df_games.head()"
   ]
  },
  {
   "cell_type": "markdown",
   "metadata": {},
   "source": [
    "### Food Dataset\n",
    "https://world.openfoodfacts.org/data"
   ]
  },
  {
   "cell_type": "code",
   "execution_count": null,
   "metadata": {},
   "outputs": [],
   "source": [
    "import pandas as pd\n",
    "\n",
    "df_food = pd.read_csv(\"en.openfoodfacts.org.products.csv\", sep=\"\\t\", usecols=[\"code\"])"
   ]
  },
  {
   "cell_type": "code",
   "execution_count": 10,
   "metadata": {},
   "outputs": [
    {
     "data": {
      "text/html": [
       "<div>\n",
       "<style scoped>\n",
       "    .dataframe tbody tr th:only-of-type {\n",
       "        vertical-align: middle;\n",
       "    }\n",
       "\n",
       "    .dataframe tbody tr th {\n",
       "        vertical-align: top;\n",
       "    }\n",
       "\n",
       "    .dataframe thead th {\n",
       "        text-align: right;\n",
       "    }\n",
       "</style>\n",
       "<table border=\"1\" class=\"dataframe\">\n",
       "  <thead>\n",
       "    <tr style=\"text-align: right;\">\n",
       "      <th></th>\n",
       "      <th>code</th>\n",
       "      <th>url</th>\n",
       "      <th>creator</th>\n",
       "      <th>created_t</th>\n",
       "      <th>created_datetime</th>\n",
       "      <th>last_modified_t</th>\n",
       "      <th>last_modified_datetime</th>\n",
       "      <th>last_modified_by</th>\n",
       "      <th>last_updated_t</th>\n",
       "      <th>last_updated_datetime</th>\n",
       "      <th>...</th>\n",
       "      <th>glycemic-index_100g</th>\n",
       "      <th>water-hardness_100g</th>\n",
       "      <th>choline_100g</th>\n",
       "      <th>phylloquinone_100g</th>\n",
       "      <th>beta-glucan_100g</th>\n",
       "      <th>inositol_100g</th>\n",
       "      <th>carnitine_100g</th>\n",
       "      <th>sulphate_100g</th>\n",
       "      <th>nitrate_100g</th>\n",
       "      <th>acidity_100g</th>\n",
       "    </tr>\n",
       "  </thead>\n",
       "  <tbody>\n",
       "    <tr>\n",
       "      <th>0</th>\n",
       "      <td>54</td>\n",
       "      <td>http://world-en.openfoodfacts.org/product/0000...</td>\n",
       "      <td>kiliweb</td>\n",
       "      <td>1582569031</td>\n",
       "      <td>2020-02-24T18:30:31Z</td>\n",
       "      <td>1733085204</td>\n",
       "      <td>2024-12-01T20:33:24Z</td>\n",
       "      <td>NaN</td>\n",
       "      <td>1740205422</td>\n",
       "      <td>2025-02-22T06:23:42Z</td>\n",
       "      <td>...</td>\n",
       "      <td>NaN</td>\n",
       "      <td>NaN</td>\n",
       "      <td>NaN</td>\n",
       "      <td>NaN</td>\n",
       "      <td>NaN</td>\n",
       "      <td>NaN</td>\n",
       "      <td>NaN</td>\n",
       "      <td>NaN</td>\n",
       "      <td>NaN</td>\n",
       "      <td>NaN</td>\n",
       "    </tr>\n",
       "    <tr>\n",
       "      <th>1</th>\n",
       "      <td>63</td>\n",
       "      <td>http://world-en.openfoodfacts.org/product/0000...</td>\n",
       "      <td>kiliweb</td>\n",
       "      <td>1673620307</td>\n",
       "      <td>2023-01-13T14:31:47Z</td>\n",
       "      <td>1739902555</td>\n",
       "      <td>2025-02-18T18:15:55Z</td>\n",
       "      <td>waistline-app</td>\n",
       "      <td>1740360377</td>\n",
       "      <td>2025-02-24T01:26:17Z</td>\n",
       "      <td>...</td>\n",
       "      <td>NaN</td>\n",
       "      <td>NaN</td>\n",
       "      <td>NaN</td>\n",
       "      <td>NaN</td>\n",
       "      <td>NaN</td>\n",
       "      <td>NaN</td>\n",
       "      <td>NaN</td>\n",
       "      <td>NaN</td>\n",
       "      <td>NaN</td>\n",
       "      <td>NaN</td>\n",
       "    </tr>\n",
       "    <tr>\n",
       "      <th>2</th>\n",
       "      <td>114</td>\n",
       "      <td>http://world-en.openfoodfacts.org/product/0000...</td>\n",
       "      <td>kiliweb</td>\n",
       "      <td>1580066482</td>\n",
       "      <td>2020-01-26T19:21:22Z</td>\n",
       "      <td>1737247862</td>\n",
       "      <td>2025-01-19T00:51:02Z</td>\n",
       "      <td>smoothie-app</td>\n",
       "      <td>1740075018</td>\n",
       "      <td>2025-02-20T18:10:18Z</td>\n",
       "      <td>...</td>\n",
       "      <td>NaN</td>\n",
       "      <td>NaN</td>\n",
       "      <td>NaN</td>\n",
       "      <td>NaN</td>\n",
       "      <td>NaN</td>\n",
       "      <td>NaN</td>\n",
       "      <td>NaN</td>\n",
       "      <td>NaN</td>\n",
       "      <td>NaN</td>\n",
       "      <td>NaN</td>\n",
       "    </tr>\n",
       "    <tr>\n",
       "      <th>3</th>\n",
       "      <td>1</td>\n",
       "      <td>http://world-en.openfoodfacts.org/product/0000...</td>\n",
       "      <td>inf</td>\n",
       "      <td>1634745456</td>\n",
       "      <td>2021-10-20T15:57:36Z</td>\n",
       "      <td>1742247341</td>\n",
       "      <td>2025-03-17T21:35:41Z</td>\n",
       "      <td>roboto-app</td>\n",
       "      <td>1742247341</td>\n",
       "      <td>2025-03-17T21:35:41Z</td>\n",
       "      <td>...</td>\n",
       "      <td>NaN</td>\n",
       "      <td>NaN</td>\n",
       "      <td>NaN</td>\n",
       "      <td>NaN</td>\n",
       "      <td>NaN</td>\n",
       "      <td>NaN</td>\n",
       "      <td>NaN</td>\n",
       "      <td>NaN</td>\n",
       "      <td>NaN</td>\n",
       "      <td>NaN</td>\n",
       "    </tr>\n",
       "    <tr>\n",
       "      <th>4</th>\n",
       "      <td>105</td>\n",
       "      <td>http://world-en.openfoodfacts.org/product/0000...</td>\n",
       "      <td>kiliweb</td>\n",
       "      <td>1572117743</td>\n",
       "      <td>2019-10-26T19:22:23Z</td>\n",
       "      <td>1738073570</td>\n",
       "      <td>2025-01-28T14:12:50Z</td>\n",
       "      <td>NaN</td>\n",
       "      <td>1740085032</td>\n",
       "      <td>2025-02-20T20:57:12Z</td>\n",
       "      <td>...</td>\n",
       "      <td>NaN</td>\n",
       "      <td>NaN</td>\n",
       "      <td>NaN</td>\n",
       "      <td>NaN</td>\n",
       "      <td>NaN</td>\n",
       "      <td>NaN</td>\n",
       "      <td>NaN</td>\n",
       "      <td>NaN</td>\n",
       "      <td>NaN</td>\n",
       "      <td>NaN</td>\n",
       "    </tr>\n",
       "  </tbody>\n",
       "</table>\n",
       "<p>5 rows × 206 columns</p>\n",
       "</div>"
      ],
      "text/plain": [
       "   code                                                url  creator  \\\n",
       "0    54  http://world-en.openfoodfacts.org/product/0000...  kiliweb   \n",
       "1    63  http://world-en.openfoodfacts.org/product/0000...  kiliweb   \n",
       "2   114  http://world-en.openfoodfacts.org/product/0000...  kiliweb   \n",
       "3     1  http://world-en.openfoodfacts.org/product/0000...      inf   \n",
       "4   105  http://world-en.openfoodfacts.org/product/0000...  kiliweb   \n",
       "\n",
       "    created_t      created_datetime  last_modified_t last_modified_datetime  \\\n",
       "0  1582569031  2020-02-24T18:30:31Z       1733085204   2024-12-01T20:33:24Z   \n",
       "1  1673620307  2023-01-13T14:31:47Z       1739902555   2025-02-18T18:15:55Z   \n",
       "2  1580066482  2020-01-26T19:21:22Z       1737247862   2025-01-19T00:51:02Z   \n",
       "3  1634745456  2021-10-20T15:57:36Z       1742247341   2025-03-17T21:35:41Z   \n",
       "4  1572117743  2019-10-26T19:22:23Z       1738073570   2025-01-28T14:12:50Z   \n",
       "\n",
       "  last_modified_by  last_updated_t last_updated_datetime  ...  \\\n",
       "0              NaN      1740205422  2025-02-22T06:23:42Z  ...   \n",
       "1    waistline-app      1740360377  2025-02-24T01:26:17Z  ...   \n",
       "2     smoothie-app      1740075018  2025-02-20T18:10:18Z  ...   \n",
       "3       roboto-app      1742247341  2025-03-17T21:35:41Z  ...   \n",
       "4              NaN      1740085032  2025-02-20T20:57:12Z  ...   \n",
       "\n",
       "  glycemic-index_100g water-hardness_100g choline_100g phylloquinone_100g  \\\n",
       "0                 NaN                 NaN          NaN                NaN   \n",
       "1                 NaN                 NaN          NaN                NaN   \n",
       "2                 NaN                 NaN          NaN                NaN   \n",
       "3                 NaN                 NaN          NaN                NaN   \n",
       "4                 NaN                 NaN          NaN                NaN   \n",
       "\n",
       "  beta-glucan_100g inositol_100g carnitine_100g sulphate_100g nitrate_100g  \\\n",
       "0              NaN           NaN            NaN           NaN          NaN   \n",
       "1              NaN           NaN            NaN           NaN          NaN   \n",
       "2              NaN           NaN            NaN           NaN          NaN   \n",
       "3              NaN           NaN            NaN           NaN          NaN   \n",
       "4              NaN           NaN            NaN           NaN          NaN   \n",
       "\n",
       "  acidity_100g  \n",
       "0          NaN  \n",
       "1          NaN  \n",
       "2          NaN  \n",
       "3          NaN  \n",
       "4          NaN  \n",
       "\n",
       "[5 rows x 206 columns]"
      ]
     },
     "execution_count": 10,
     "metadata": {},
     "output_type": "execute_result"
    }
   ],
   "source": [
    "df_food.head()"
   ]
  },
  {
   "cell_type": "markdown",
   "metadata": {},
   "source": [
    "<h3>Come è possibile vedere, molti nutritional facts sono mancanti. </h3>\n",
    "<h3>Nonostante ciò, i <b>nutritional facts</b> più importanti hanno una bassa percentuale di dati mancanti su 1M di righe. </h3>"
   ]
  },
  {
   "cell_type": "code",
   "execution_count": 30,
   "metadata": {},
   "outputs": [
    {
     "data": {
      "text/plain": [
       "energy_100g                         0.193\n",
       "energy-kj_100g                      0.972\n",
       "energy-kcal_100g                    0.194\n",
       "proteins_100g                       0.199\n",
       "casein_100g                         1.000\n",
       "serum-proteins_100g                 1.000\n",
       "nucleotides_100g                    1.000\n",
       "carbohydrates_100g                  0.198\n",
       "sugars_100g                         0.237\n",
       "sucrose_100g                        1.000\n",
       "glucose_100g                        0.990\n",
       "fructose_100g                       0.990\n",
       "lactose_100g                        0.990\n",
       "maltose_100g                        1.000\n",
       "maltodextrins_100g                  1.000\n",
       "starch_100g                         1.000\n",
       "polyols_100g                        0.997\n",
       "fat_100g                            0.201\n",
       "saturated-fat_100g                  0.263\n",
       "butyric-acid_100g                   1.000\n",
       "caproic-acid_100g                   1.000\n",
       "caprylic-acid_100g                  1.000\n",
       "capric-acid_100g                    1.000\n",
       "lauric-acid_100g                    1.000\n",
       "myristic-acid_100g                  1.000\n",
       "palmitic-acid_100g                  1.000\n",
       "stearic-acid_100g                   1.000\n",
       "arachidic-acid_100g                 1.000\n",
       "behenic-acid_100g                   1.000\n",
       "lignoceric-acid_100g                1.000\n",
       "cerotic-acid_100g                   1.000\n",
       "montanic-acid_100g                  1.000\n",
       "melissic-acid_100g                  1.000\n",
       "monounsaturated-fat_100g            0.946\n",
       "polyunsaturated-fat_100g            0.947\n",
       "omega-3-fat_100g                    0.989\n",
       "alpha-linolenic-acid_100g           1.000\n",
       "eicosapentaenoic-acid_100g          1.000\n",
       "docosahexaenoic-acid_100g           1.000\n",
       "omega-6-fat_100g                    0.990\n",
       "linoleic-acid_100g                  1.000\n",
       "arachidonic-acid_100g               1.000\n",
       "gamma-linolenic-acid_100g           1.000\n",
       "dihomo-gamma-linolenic-acid_100g    1.000\n",
       "omega-9-fat_100g                    1.000\n",
       "oleic-acid_100g                     1.000\n",
       "elaidic-acid_100g                   1.000\n",
       "gondoic-acid_100g                   1.000\n",
       "mead-acid_100g                      1.000\n",
       "erucic-acid_100g                    1.000\n",
       "nervonic-acid_100g                  1.000\n",
       "trans-fat_100g                      0.681\n",
       "cholesterol_100g                    0.665\n",
       "fiber_100g                          0.434\n",
       "sodium_100g                         0.289\n",
       "vitamin-a_100g                      0.793\n",
       "vitamin-d_100g                      0.944\n",
       "vitamin-e_100g                      0.988\n",
       "vitamin-k_100g                      0.989\n",
       "vitamin-c_100g                      0.788\n",
       "vitamin-b1_100g                     0.969\n",
       "vitamin-b2_100g                     0.969\n",
       "vitamin-pp_100g                     0.969\n",
       "vitamin-b6_100g                     0.976\n",
       "vitamin-b9_100g                     0.981\n",
       "vitamin-b12_100g                    0.979\n",
       "biotin_100g                         1.000\n",
       "pantothenic-acid_100g               0.985\n",
       "silica_100g                         1.000\n",
       "bicarbonate_100g                    1.000\n",
       "potassium_100g                      0.837\n",
       "chloride_100g                       1.000\n",
       "calcium_100g                        0.684\n",
       "phosphorus_100g                     0.978\n",
       "iron_100g                           0.685\n",
       "magnesium_100g                      0.977\n",
       "zinc_100g                           0.980\n",
       "copper_100g                         0.986\n",
       "manganese_100g                      0.986\n",
       "fluoride_100g                       0.990\n",
       "selenium_100g                       0.987\n",
       "chromium_100g                       1.000\n",
       "molybdenum_100g                     1.000\n",
       "iodine_100g                         0.989\n",
       "caffeine_100g                       0.989\n",
       "taurine_100g                        1.000\n",
       "dtype: float64"
      ]
     },
     "execution_count": 30,
     "metadata": {},
     "output_type": "execute_result"
    }
   ],
   "source": [
    "pd.set_option(\"display.max_rows\", None)\n",
    "\n",
    "columns = [\n",
    "    \"energy_100g\", \"energy-kj_100g\", \"energy-kcal_100g\", \"proteins_100g\",\n",
    "    \"casein_100g\", \"serum-proteins_100g\", \"nucleotides_100g\", \"carbohydrates_100g\",\n",
    "    \"sugars_100g\", \"sucrose_100g\", \"glucose_100g\", \"fructose_100g\", \"lactose_100g\",\n",
    "    \"maltose_100g\", \"maltodextrins_100g\", \"starch_100g\", \"polyols_100g\", \"fat_100g\",\n",
    "    \"saturated-fat_100g\", \"butyric-acid_100g\", \"caproic-acid_100g\", \"caprylic-acid_100g\",\n",
    "    \"capric-acid_100g\", \"lauric-acid_100g\", \"myristic-acid_100g\", \"palmitic-acid_100g\",\n",
    "    \"stearic-acid_100g\", \"arachidic-acid_100g\", \"behenic-acid_100g\", \"lignoceric-acid_100g\",\n",
    "    \"cerotic-acid_100g\", \"montanic-acid_100g\", \"melissic-acid_100g\", \"monounsaturated-fat_100g\",\n",
    "    \"polyunsaturated-fat_100g\", \"omega-3-fat_100g\", \"alpha-linolenic-acid_100g\",\n",
    "    \"eicosapentaenoic-acid_100g\", \"docosahexaenoic-acid_100g\", \"omega-6-fat_100g\",\n",
    "    \"linoleic-acid_100g\", \"arachidonic-acid_100g\", \"gamma-linolenic-acid_100g\",\n",
    "    \"dihomo-gamma-linolenic-acid_100g\", \"omega-9-fat_100g\", \"oleic-acid_100g\",\n",
    "    \"elaidic-acid_100g\", \"gondoic-acid_100g\", \"mead-acid_100g\", \"erucic-acid_100g\",\n",
    "    \"nervonic-acid_100g\", \"trans-fat_100g\", \"cholesterol_100g\", \"fiber_100g\",\n",
    "    \"sodium_100g\", \"vitamin-a_100g\", \"vitamin-d_100g\", \"vitamin-e_100g\",\n",
    "    \"vitamin-k_100g\", \"vitamin-c_100g\", \"vitamin-b1_100g\", \"vitamin-b2_100g\",\n",
    "    \"vitamin-pp_100g\", \"vitamin-b6_100g\", \"vitamin-b9_100g\", \"vitamin-b12_100g\",\n",
    "    \"biotin_100g\", \"pantothenic-acid_100g\", \"silica_100g\", \"bicarbonate_100g\",\n",
    "    \"potassium_100g\", \"chloride_100g\", \"calcium_100g\", \"phosphorus_100g\",\n",
    "    \"iron_100g\", \"magnesium_100g\", \"zinc_100g\", \"copper_100g\", \"manganese_100g\",\n",
    "    \"fluoride_100g\", \"selenium_100g\", \"chromium_100g\", \"molybdenum_100g\",\n",
    "    \"iodine_100g\", \"caffeine_100g\", \"taurine_100g\"\n",
    "]\n",
    "\n",
    "\n",
    "round(df_food[columns].isna().sum()/1000000, 3)"
   ]
  },
  {
   "cell_type": "code",
   "execution_count": 33,
   "metadata": {},
   "outputs": [
    {
     "data": {
      "text/plain": [
       "energy-kcal_100g      0.194\n",
       "proteins_100g         0.199\n",
       "carbohydrates_100g    0.198\n",
       "sugars_100g           0.237\n",
       "fat_100g              0.201\n",
       "saturated-fat_100g    0.263\n",
       "fiber_100g            0.434\n",
       "sodium_100g           0.289\n",
       "dtype: float64"
      ]
     },
     "execution_count": 33,
     "metadata": {},
     "output_type": "execute_result"
    }
   ],
   "source": [
    "columns_principali = [\n",
    "    \"energy-kcal_100g\",  # Valore energetico in kcal\n",
    "    \"proteins_100g\",     # Proteine\n",
    "    \"carbohydrates_100g\",# Carboidrati totali\n",
    "    \"sugars_100g\",       # Zuccheri semplici\n",
    "    \"fat_100g\",          # Grassi totali\n",
    "    \"saturated-fat_100g\",# Grassi saturi\n",
    "    \"fiber_100g\",        # Fibre alimentari\n",
    "    \"sodium_100g\"        # Sodio\n",
    "]\n",
    "\n",
    "round(df_food[columns_principali].isna().sum()/1000000, 3)\n"
   ]
  },
  {
   "cell_type": "markdown",
   "metadata": {},
   "source": [
    "Controlliamo su intero dataset, aggiungendo anche altre colonne fondamentali"
   ]
  },
  {
   "cell_type": "code",
   "execution_count": null,
   "metadata": {},
   "outputs": [
    {
     "data": {
      "text/plain": [
       "code                                                                                                  code\n",
       "url                                                                                                    url\n",
       "creator                                                                                            creator\n",
       "created_t                                                                                        created_t\n",
       "created_datetime                                                                          created_datetime\n",
       "last_modified_t                                                                            last_modified_t\n",
       "last_modified_datetime                                                              last_modified_datetime\n",
       "last_modified_by                                                                          last_modified_by\n",
       "last_updated_t                                                                              last_updated_t\n",
       "last_updated_datetime                                                                last_updated_datetime\n",
       "product_name                                                                                  product_name\n",
       "abbreviated_product_name                                                          abbreviated_product_name\n",
       "generic_name                                                                                  generic_name\n",
       "quantity                                                                                          quantity\n",
       "packaging                                                                                        packaging\n",
       "packaging_tags                                                                              packaging_tags\n",
       "packaging_en                                                                                  packaging_en\n",
       "packaging_text                                                                              packaging_text\n",
       "brands                                                                                              brands\n",
       "brands_tags                                                                                    brands_tags\n",
       "categories                                                                                      categories\n",
       "categories_tags                                                                            categories_tags\n",
       "categories_en                                                                                categories_en\n",
       "origins                                                                                            origins\n",
       "origins_tags                                                                                  origins_tags\n",
       "origins_en                                                                                      origins_en\n",
       "manufacturing_places                                                                  manufacturing_places\n",
       "manufacturing_places_tags                                                        manufacturing_places_tags\n",
       "labels                                                                                              labels\n",
       "labels_tags                                                                                    labels_tags\n",
       "labels_en                                                                                        labels_en\n",
       "emb_codes                                                                                        emb_codes\n",
       "emb_codes_tags                                                                              emb_codes_tags\n",
       "first_packaging_code_geo                                                          first_packaging_code_geo\n",
       "cities                                                                                              cities\n",
       "cities_tags                                                                                    cities_tags\n",
       "purchase_places                                                                            purchase_places\n",
       "stores                                                                                              stores\n",
       "countries                                                                                        countries\n",
       "countries_tags                                                                              countries_tags\n",
       "countries_en                                                                                  countries_en\n",
       "ingredients_text                                                                          ingredients_text\n",
       "ingredients_tags                                                                          ingredients_tags\n",
       "ingredients_analysis_tags                                                        ingredients_analysis_tags\n",
       "allergens                                                                                        allergens\n",
       "allergens_en                                                                                  allergens_en\n",
       "traces                                                                                              traces\n",
       "traces_tags                                                                                    traces_tags\n",
       "traces_en                                                                                        traces_en\n",
       "serving_size                                                                                  serving_size\n",
       "serving_quantity                                                                          serving_quantity\n",
       "no_nutrition_data                                                                        no_nutrition_data\n",
       "additives_n                                                                                    additives_n\n",
       "additives                                                                                        additives\n",
       "additives_tags                                                                              additives_tags\n",
       "additives_en                                                                                  additives_en\n",
       "nutriscore_score                                                                          nutriscore_score\n",
       "nutriscore_grade                                                                          nutriscore_grade\n",
       "nova_group                                                                                      nova_group\n",
       "pnns_groups_1                                                                                pnns_groups_1\n",
       "pnns_groups_2                                                                                pnns_groups_2\n",
       "food_groups                                                                                    food_groups\n",
       "food_groups_tags                                                                          food_groups_tags\n",
       "food_groups_en                                                                              food_groups_en\n",
       "states                                                                                              states\n",
       "states_tags                                                                                    states_tags\n",
       "states_en                                                                                        states_en\n",
       "brand_owner                                                                                    brand_owner\n",
       "environmental_score_score                                                        environmental_score_score\n",
       "environmental_score_grade                                                        environmental_score_grade\n",
       "nutrient_levels_tags                                                                  nutrient_levels_tags\n",
       "product_quantity                                                                          product_quantity\n",
       "owner                                                                                                owner\n",
       "data_quality_errors_tags                                                          data_quality_errors_tags\n",
       "unique_scans_n                                                                              unique_scans_n\n",
       "popularity_tags                                                                            popularity_tags\n",
       "completeness                                                                                  completeness\n",
       "last_image_t                                                                                  last_image_t\n",
       "last_image_datetime                                                                    last_image_datetime\n",
       "main_category                                                                                main_category\n",
       "main_category_en                                                                          main_category_en\n",
       "image_url                                                                                        image_url\n",
       "image_small_url                                                                            image_small_url\n",
       "image_ingredients_url                                                                image_ingredients_url\n",
       "image_ingredients_small_url                                                    image_ingredients_small_url\n",
       "image_nutrition_url                                                                    image_nutrition_url\n",
       "image_nutrition_small_url                                                        image_nutrition_small_url\n",
       "energy-kj_100g                                                                              energy-kj_100g\n",
       "energy-kcal_100g                                                                          energy-kcal_100g\n",
       "energy_100g                                                                                    energy_100g\n",
       "energy-from-fat_100g                                                                  energy-from-fat_100g\n",
       "fat_100g                                                                                          fat_100g\n",
       "saturated-fat_100g                                                                      saturated-fat_100g\n",
       "butyric-acid_100g                                                                        butyric-acid_100g\n",
       "caproic-acid_100g                                                                        caproic-acid_100g\n",
       "caprylic-acid_100g                                                                      caprylic-acid_100g\n",
       "capric-acid_100g                                                                          capric-acid_100g\n",
       "lauric-acid_100g                                                                          lauric-acid_100g\n",
       "myristic-acid_100g                                                                      myristic-acid_100g\n",
       "palmitic-acid_100g                                                                      palmitic-acid_100g\n",
       "stearic-acid_100g                                                                        stearic-acid_100g\n",
       "arachidic-acid_100g                                                                    arachidic-acid_100g\n",
       "behenic-acid_100g                                                                        behenic-acid_100g\n",
       "lignoceric-acid_100g                                                                  lignoceric-acid_100g\n",
       "cerotic-acid_100g                                                                        cerotic-acid_100g\n",
       "montanic-acid_100g                                                                      montanic-acid_100g\n",
       "melissic-acid_100g                                                                      melissic-acid_100g\n",
       "unsaturated-fat_100g                                                                  unsaturated-fat_100g\n",
       "monounsaturated-fat_100g                                                          monounsaturated-fat_100g\n",
       "omega-9-fat_100g                                                                          omega-9-fat_100g\n",
       "polyunsaturated-fat_100g                                                          polyunsaturated-fat_100g\n",
       "omega-3-fat_100g                                                                          omega-3-fat_100g\n",
       "omega-6-fat_100g                                                                          omega-6-fat_100g\n",
       "alpha-linolenic-acid_100g                                                        alpha-linolenic-acid_100g\n",
       "eicosapentaenoic-acid_100g                                                      eicosapentaenoic-acid_100g\n",
       "docosahexaenoic-acid_100g                                                        docosahexaenoic-acid_100g\n",
       "linoleic-acid_100g                                                                      linoleic-acid_100g\n",
       "arachidonic-acid_100g                                                                arachidonic-acid_100g\n",
       "gamma-linolenic-acid_100g                                                        gamma-linolenic-acid_100g\n",
       "dihomo-gamma-linolenic-acid_100g                                          dihomo-gamma-linolenic-acid_100g\n",
       "oleic-acid_100g                                                                            oleic-acid_100g\n",
       "elaidic-acid_100g                                                                        elaidic-acid_100g\n",
       "gondoic-acid_100g                                                                        gondoic-acid_100g\n",
       "mead-acid_100g                                                                              mead-acid_100g\n",
       "erucic-acid_100g                                                                          erucic-acid_100g\n",
       "nervonic-acid_100g                                                                      nervonic-acid_100g\n",
       "trans-fat_100g                                                                              trans-fat_100g\n",
       "cholesterol_100g                                                                          cholesterol_100g\n",
       "carbohydrates_100g                                                                      carbohydrates_100g\n",
       "sugars_100g                                                                                    sugars_100g\n",
       "added-sugars_100g                                                                        added-sugars_100g\n",
       "sucrose_100g                                                                                  sucrose_100g\n",
       "glucose_100g                                                                                  glucose_100g\n",
       "fructose_100g                                                                                fructose_100g\n",
       "lactose_100g                                                                                  lactose_100g\n",
       "maltose_100g                                                                                  maltose_100g\n",
       "maltodextrins_100g                                                                      maltodextrins_100g\n",
       "starch_100g                                                                                    starch_100g\n",
       "polyols_100g                                                                                  polyols_100g\n",
       "erythritol_100g                                                                            erythritol_100g\n",
       "fiber_100g                                                                                      fiber_100g\n",
       "soluble-fiber_100g                                                                      soluble-fiber_100g\n",
       "insoluble-fiber_100g                                                                  insoluble-fiber_100g\n",
       "proteins_100g                                                                                proteins_100g\n",
       "casein_100g                                                                                    casein_100g\n",
       "serum-proteins_100g                                                                    serum-proteins_100g\n",
       "nucleotides_100g                                                                          nucleotides_100g\n",
       "salt_100g                                                                                        salt_100g\n",
       "added-salt_100g                                                                            added-salt_100g\n",
       "sodium_100g                                                                                    sodium_100g\n",
       "alcohol_100g                                                                                  alcohol_100g\n",
       "vitamin-a_100g                                                                              vitamin-a_100g\n",
       "beta-carotene_100g                                                                      beta-carotene_100g\n",
       "vitamin-d_100g                                                                              vitamin-d_100g\n",
       "vitamin-e_100g                                                                              vitamin-e_100g\n",
       "vitamin-k_100g                                                                              vitamin-k_100g\n",
       "vitamin-c_100g                                                                              vitamin-c_100g\n",
       "vitamin-b1_100g                                                                            vitamin-b1_100g\n",
       "vitamin-b2_100g                                                                            vitamin-b2_100g\n",
       "vitamin-pp_100g                                                                            vitamin-pp_100g\n",
       "vitamin-b6_100g                                                                            vitamin-b6_100g\n",
       "vitamin-b9_100g                                                                            vitamin-b9_100g\n",
       "folates_100g                                                                                  folates_100g\n",
       "vitamin-b12_100g                                                                          vitamin-b12_100g\n",
       "biotin_100g                                                                                    biotin_100g\n",
       "pantothenic-acid_100g                                                                pantothenic-acid_100g\n",
       "silica_100g                                                                                    silica_100g\n",
       "bicarbonate_100g                                                                          bicarbonate_100g\n",
       "potassium_100g                                                                              potassium_100g\n",
       "chloride_100g                                                                                chloride_100g\n",
       "calcium_100g                                                                                  calcium_100g\n",
       "phosphorus_100g                                                                            phosphorus_100g\n",
       "iron_100g                                                                                        iron_100g\n",
       "magnesium_100g                                                                              magnesium_100g\n",
       "zinc_100g                                                                                        zinc_100g\n",
       "copper_100g                                                                                    copper_100g\n",
       "manganese_100g                                                                              manganese_100g\n",
       "fluoride_100g                                                                                fluoride_100g\n",
       "selenium_100g                                                                                selenium_100g\n",
       "chromium_100g                                                                                chromium_100g\n",
       "molybdenum_100g                                                                            molybdenum_100g\n",
       "iodine_100g                                                                                    iodine_100g\n",
       "caffeine_100g                                                                                caffeine_100g\n",
       "taurine_100g                                                                                  taurine_100g\n",
       "ph_100g                                                                                            ph_100g\n",
       "fruits-vegetables-nuts_100g                                                    fruits-vegetables-nuts_100g\n",
       "fruits-vegetables-nuts-dried_100g                                        fruits-vegetables-nuts-dried_100g\n",
       "fruits-vegetables-nuts-estimate_100g                                  fruits-vegetables-nuts-estimate_100g\n",
       "fruits-vegetables-nuts-estimate-from-ingredients_100g    fruits-vegetables-nuts-estimate-from-ingredien...\n",
       "collagen-meat-protein-ratio_100g                                          collagen-meat-protein-ratio_100g\n",
       "cocoa_100g                                                                                      cocoa_100g\n",
       "chlorophyl_100g                                                                            chlorophyl_100g\n",
       "carbon-footprint_100g                                                                carbon-footprint_100g\n",
       "carbon-footprint-from-meat-or-fish_100g                            carbon-footprint-from-meat-or-fish_100g\n",
       "nutrition-score-fr_100g                                                            nutrition-score-fr_100g\n",
       "nutrition-score-uk_100g                                                            nutrition-score-uk_100g\n",
       "glycemic-index_100g                                                                    glycemic-index_100g\n",
       "water-hardness_100g                                                                    water-hardness_100g\n",
       "choline_100g                                                                                  choline_100g\n",
       "phylloquinone_100g                                                                      phylloquinone_100g\n",
       "beta-glucan_100g                                                                          beta-glucan_100g\n",
       "inositol_100g                                                                                inositol_100g\n",
       "carnitine_100g                                                                              carnitine_100g\n",
       "sulphate_100g                                                                                sulphate_100g\n",
       "nitrate_100g                                                                                  nitrate_100g\n",
       "acidity_100g                                                                                  acidity_100g\n",
       "dtype: object"
      ]
     },
     "execution_count": 43,
     "metadata": {},
     "output_type": "execute_result"
    }
   ],
   "source": [
    "import pandas as pd\n",
    "\n",
    "pd.set_option(\"display.max_rows\", None)\n",
    "df_food_len = pd.read_csv(\"en.openfoodfacts.org.products.csv\", sep=\"\\t\", nrows=1)\n",
    "\n",
    "df_food_len.columns.to_series()"
   ]
  },
  {
   "cell_type": "code",
   "execution_count": null,
   "metadata": {},
   "outputs": [
    {
     "name": "stderr",
     "output_type": "stream",
     "text": [
      "/tmp/ipykernel_15622/1181011979.py:22: DtypeWarning: Columns (0,88,91,92) have mixed types. Specify dtype option on import or set low_memory=False.\n",
      "  df_food_len = pd.read_csv(\"en.openfoodfacts.org.products.csv\", sep=\"\\t\", usecols=columns_principali)\n"
     ]
    },
    {
     "data": {
      "text/plain": [
       "code                       0.000\n",
       "product_name               0.238\n",
       "categories                 2.131\n",
       "countries                  0.024\n",
       "ingredients_text           2.660\n",
       "serving_size               2.720\n",
       "energy-kcal_100g           1.021\n",
       "fat_100g                   1.004\n",
       "saturated-fat_100g         1.139\n",
       "carbohydrates_100g         1.000\n",
       "sugars_100g                1.100\n",
       "fiber_100g                 2.427\n",
       "proteins_100g              0.999\n",
       "sodium_100g                1.355\n",
       "nutrition-score-fr_100g    2.523\n",
       "nutrition-score-uk_100g    3.759\n",
       "dtype: float64"
      ]
     },
     "execution_count": 44,
     "metadata": {},
     "output_type": "execute_result"
    }
   ],
   "source": [
    "import pandas as pd\n",
    "\n",
    "columns_principali = [\n",
    "    \"code\",\n",
    "    \"product_name\", \n",
    "    \"categories\",\n",
    "    \"countries\",\n",
    "    \"ingredients_text\",\n",
    "    \"serving_size\",\n",
    "    \"nutrition-score-fr_100g\",\n",
    "    \"nutrition-score-uk_100g\", \n",
    "    \"energy-kcal_100g\",  # Valore energetico in kcal\n",
    "    \"proteins_100g\",     # Proteine\n",
    "    \"carbohydrates_100g\",# Carboidrati totali\n",
    "    \"sugars_100g\",       # Zuccheri semplici\n",
    "    \"fat_100g\",          # Grassi totali\n",
    "    \"saturated-fat_100g\",# Grassi saturi\n",
    "    \"fiber_100g\",        # Fibre alimentari\n",
    "    \"sodium_100g\"        # Sodio\n",
    "]\n",
    "\n",
    "df_food_len = pd.read_csv(\"en.openfoodfacts.org.products.csv\", sep=\"\\t\", usecols=columns_principali)"
   ]
  },
  {
   "cell_type": "code",
   "execution_count": null,
   "metadata": {},
   "outputs": [
    {
     "data": {
      "text/plain": [
       "code                       0.000\n",
       "product_name               0.063\n",
       "categories                 0.567\n",
       "countries                  0.006\n",
       "ingredients_text           0.708\n",
       "serving_size               0.724\n",
       "energy-kcal_100g           0.272\n",
       "fat_100g                   0.267\n",
       "saturated-fat_100g         0.303\n",
       "carbohydrates_100g         0.266\n",
       "sugars_100g                0.293\n",
       "fiber_100g                 0.646\n",
       "proteins_100g              0.266\n",
       "sodium_100g                0.360\n",
       "nutrition-score-fr_100g    0.671\n",
       "nutrition-score-uk_100g    1.000\n",
       "dtype: float64"
      ]
     },
     "execution_count": 45,
     "metadata": {},
     "output_type": "execute_result"
    }
   ],
   "source": [
    "round(df_food_len.isna().sum()/len(df_food_len), 3)"
   ]
  },
  {
   "cell_type": "markdown",
   "metadata": {},
   "source": [
    "Come possiamo vedere, le seguenti colonne hanno troppi dati mancanti, quindi possono essere eliminate:\n",
    "\n",
    "categories, ingredients_text, serving_size, nutrition-score-*"
   ]
  },
  {
   "cell_type": "markdown",
   "metadata": {},
   "source": [
    "### Zoomato Restaurants Datase"
   ]
  },
  {
   "cell_type": "code",
   "execution_count": 1,
   "metadata": {},
   "outputs": [
    {
     "name": "stdout",
     "output_type": "stream",
     "text": [
      "Downloading from https://www.kaggle.com/api/v1/datasets/download/shrutimehta/zomato-restaurants-data?dataset_version_number=2...\n"
     ]
    },
    {
     "name": "stderr",
     "output_type": "stream",
     "text": [
      "100%|██████████| 5.47M/5.47M [00:00<00:00, 6.90MB/s]"
     ]
    },
    {
     "name": "stdout",
     "output_type": "stream",
     "text": [
      "Extracting files...\n"
     ]
    },
    {
     "name": "stderr",
     "output_type": "stream",
     "text": [
      "\n"
     ]
    },
    {
     "name": "stdout",
     "output_type": "stream",
     "text": [
      "Path to dataset files: /home/alessio/.cache/kagglehub/datasets/shrutimehta/zomato-restaurants-data/versions/2\n"
     ]
    }
   ],
   "source": [
    "import kagglehub\n",
    "\n",
    "# Download latest version\n",
    "path = kagglehub.dataset_download(\"shrutimehta/zomato-restaurants-data\")\n",
    "\n",
    "print(\"Path to dataset files:\", path)"
   ]
  },
  {
   "cell_type": "code",
   "execution_count": 6,
   "metadata": {},
   "outputs": [
    {
     "data": {
      "text/plain": [
       "Index(['Restaurant ID', 'Restaurant Name', 'Country Code', 'City', 'Address',\n",
       "       'Locality', 'Locality Verbose', 'Longitude', 'Latitude', 'Cuisines',\n",
       "       'Average Cost for two', 'Currency', 'Has Table booking',\n",
       "       'Has Online delivery', 'Is delivering now', 'Switch to order menu',\n",
       "       'Price range', 'Aggregate rating', 'Rating color', 'Rating text',\n",
       "       'Votes'],\n",
       "      dtype='object')"
      ]
     },
     "execution_count": 6,
     "metadata": {},
     "output_type": "execute_result"
    }
   ],
   "source": [
    "df_rest.columns"
   ]
  },
  {
   "cell_type": "code",
   "execution_count": 11,
   "metadata": {},
   "outputs": [
    {
     "data": {
      "text/plain": [
       "12"
      ]
     },
     "execution_count": 11,
     "metadata": {},
     "output_type": "execute_result"
    }
   ],
   "source": [
    "df_rest['Currency'].nunique()"
   ]
  },
  {
   "cell_type": "code",
   "execution_count": 12,
   "metadata": {},
   "outputs": [
    {
     "data": {
      "text/plain": [
       "array(['Botswana Pula(P)', 'Brazilian Real(R$)', 'Dollar($)',\n",
       "       'Emirati Diram(AED)', 'Indian Rupees(Rs.)',\n",
       "       'Indonesian Rupiah(IDR)', 'NewZealand($)', 'Pounds(\\x8c£)',\n",
       "       'Qatari Rial(QR)', 'Rand(R)', 'Sri Lankan Rupee(LKR)',\n",
       "       'Turkish Lira(TL)'], dtype=object)"
      ]
     },
     "execution_count": 12,
     "metadata": {},
     "output_type": "execute_result"
    }
   ],
   "source": [
    "df_rest['Currency'].unique()\n"
   ]
  },
  {
   "cell_type": "markdown",
   "metadata": {},
   "source": [
    "#### Read Dataset"
   ]
  },
  {
   "cell_type": "code",
   "execution_count": 1,
   "metadata": {},
   "outputs": [
    {
     "data": {
      "text/html": [
       "<div>\n",
       "<style scoped>\n",
       "    .dataframe tbody tr th:only-of-type {\n",
       "        vertical-align: middle;\n",
       "    }\n",
       "\n",
       "    .dataframe tbody tr th {\n",
       "        vertical-align: top;\n",
       "    }\n",
       "\n",
       "    .dataframe thead th {\n",
       "        text-align: right;\n",
       "    }\n",
       "</style>\n",
       "<table border=\"1\" class=\"dataframe\">\n",
       "  <thead>\n",
       "    <tr style=\"text-align: right;\">\n",
       "      <th></th>\n",
       "      <th>Restaurant ID</th>\n",
       "      <th>Restaurant Name</th>\n",
       "      <th>Country Code</th>\n",
       "      <th>City</th>\n",
       "      <th>Address</th>\n",
       "      <th>Locality</th>\n",
       "      <th>Locality Verbose</th>\n",
       "      <th>Longitude</th>\n",
       "      <th>Latitude</th>\n",
       "      <th>Cuisines</th>\n",
       "      <th>...</th>\n",
       "      <th>Currency</th>\n",
       "      <th>Has Table booking</th>\n",
       "      <th>Has Online delivery</th>\n",
       "      <th>Is delivering now</th>\n",
       "      <th>Switch to order menu</th>\n",
       "      <th>Price range</th>\n",
       "      <th>Aggregate rating</th>\n",
       "      <th>Rating color</th>\n",
       "      <th>Rating text</th>\n",
       "      <th>Votes</th>\n",
       "    </tr>\n",
       "  </thead>\n",
       "  <tbody>\n",
       "    <tr>\n",
       "      <th>0</th>\n",
       "      <td>6317637</td>\n",
       "      <td>Le Petit Souffle</td>\n",
       "      <td>162</td>\n",
       "      <td>Makati City</td>\n",
       "      <td>Third Floor, Century City Mall, Kalayaan Avenu...</td>\n",
       "      <td>Century City Mall, Poblacion, Makati City</td>\n",
       "      <td>Century City Mall, Poblacion, Makati City, Mak...</td>\n",
       "      <td>121.027535</td>\n",
       "      <td>14.565443</td>\n",
       "      <td>French, Japanese, Desserts</td>\n",
       "      <td>...</td>\n",
       "      <td>Botswana Pula(P)</td>\n",
       "      <td>Yes</td>\n",
       "      <td>No</td>\n",
       "      <td>No</td>\n",
       "      <td>No</td>\n",
       "      <td>3</td>\n",
       "      <td>4.8</td>\n",
       "      <td>Dark Green</td>\n",
       "      <td>Excellent</td>\n",
       "      <td>314</td>\n",
       "    </tr>\n",
       "    <tr>\n",
       "      <th>1</th>\n",
       "      <td>6304287</td>\n",
       "      <td>Izakaya Kikufuji</td>\n",
       "      <td>162</td>\n",
       "      <td>Makati City</td>\n",
       "      <td>Little Tokyo, 2277 Chino Roces Avenue, Legaspi...</td>\n",
       "      <td>Little Tokyo, Legaspi Village, Makati City</td>\n",
       "      <td>Little Tokyo, Legaspi Village, Makati City, Ma...</td>\n",
       "      <td>121.014101</td>\n",
       "      <td>14.553708</td>\n",
       "      <td>Japanese</td>\n",
       "      <td>...</td>\n",
       "      <td>Botswana Pula(P)</td>\n",
       "      <td>Yes</td>\n",
       "      <td>No</td>\n",
       "      <td>No</td>\n",
       "      <td>No</td>\n",
       "      <td>3</td>\n",
       "      <td>4.5</td>\n",
       "      <td>Dark Green</td>\n",
       "      <td>Excellent</td>\n",
       "      <td>591</td>\n",
       "    </tr>\n",
       "    <tr>\n",
       "      <th>2</th>\n",
       "      <td>6300002</td>\n",
       "      <td>Heat - Edsa Shangri-La</td>\n",
       "      <td>162</td>\n",
       "      <td>Mandaluyong City</td>\n",
       "      <td>Edsa Shangri-La, 1 Garden Way, Ortigas, Mandal...</td>\n",
       "      <td>Edsa Shangri-La, Ortigas, Mandaluyong City</td>\n",
       "      <td>Edsa Shangri-La, Ortigas, Mandaluyong City, Ma...</td>\n",
       "      <td>121.056831</td>\n",
       "      <td>14.581404</td>\n",
       "      <td>Seafood, Asian, Filipino, Indian</td>\n",
       "      <td>...</td>\n",
       "      <td>Botswana Pula(P)</td>\n",
       "      <td>Yes</td>\n",
       "      <td>No</td>\n",
       "      <td>No</td>\n",
       "      <td>No</td>\n",
       "      <td>4</td>\n",
       "      <td>4.4</td>\n",
       "      <td>Green</td>\n",
       "      <td>Very Good</td>\n",
       "      <td>270</td>\n",
       "    </tr>\n",
       "    <tr>\n",
       "      <th>3</th>\n",
       "      <td>6318506</td>\n",
       "      <td>Ooma</td>\n",
       "      <td>162</td>\n",
       "      <td>Mandaluyong City</td>\n",
       "      <td>Third Floor, Mega Fashion Hall, SM Megamall, O...</td>\n",
       "      <td>SM Megamall, Ortigas, Mandaluyong City</td>\n",
       "      <td>SM Megamall, Ortigas, Mandaluyong City, Mandal...</td>\n",
       "      <td>121.056475</td>\n",
       "      <td>14.585318</td>\n",
       "      <td>Japanese, Sushi</td>\n",
       "      <td>...</td>\n",
       "      <td>Botswana Pula(P)</td>\n",
       "      <td>No</td>\n",
       "      <td>No</td>\n",
       "      <td>No</td>\n",
       "      <td>No</td>\n",
       "      <td>4</td>\n",
       "      <td>4.9</td>\n",
       "      <td>Dark Green</td>\n",
       "      <td>Excellent</td>\n",
       "      <td>365</td>\n",
       "    </tr>\n",
       "    <tr>\n",
       "      <th>4</th>\n",
       "      <td>6314302</td>\n",
       "      <td>Sambo Kojin</td>\n",
       "      <td>162</td>\n",
       "      <td>Mandaluyong City</td>\n",
       "      <td>Third Floor, Mega Atrium, SM Megamall, Ortigas...</td>\n",
       "      <td>SM Megamall, Ortigas, Mandaluyong City</td>\n",
       "      <td>SM Megamall, Ortigas, Mandaluyong City, Mandal...</td>\n",
       "      <td>121.057508</td>\n",
       "      <td>14.584450</td>\n",
       "      <td>Japanese, Korean</td>\n",
       "      <td>...</td>\n",
       "      <td>Botswana Pula(P)</td>\n",
       "      <td>Yes</td>\n",
       "      <td>No</td>\n",
       "      <td>No</td>\n",
       "      <td>No</td>\n",
       "      <td>4</td>\n",
       "      <td>4.8</td>\n",
       "      <td>Dark Green</td>\n",
       "      <td>Excellent</td>\n",
       "      <td>229</td>\n",
       "    </tr>\n",
       "  </tbody>\n",
       "</table>\n",
       "<p>5 rows × 21 columns</p>\n",
       "</div>"
      ],
      "text/plain": [
       "   Restaurant ID         Restaurant Name  Country Code              City  \\\n",
       "0        6317637        Le Petit Souffle           162       Makati City   \n",
       "1        6304287        Izakaya Kikufuji           162       Makati City   \n",
       "2        6300002  Heat - Edsa Shangri-La           162  Mandaluyong City   \n",
       "3        6318506                    Ooma           162  Mandaluyong City   \n",
       "4        6314302             Sambo Kojin           162  Mandaluyong City   \n",
       "\n",
       "                                             Address  \\\n",
       "0  Third Floor, Century City Mall, Kalayaan Avenu...   \n",
       "1  Little Tokyo, 2277 Chino Roces Avenue, Legaspi...   \n",
       "2  Edsa Shangri-La, 1 Garden Way, Ortigas, Mandal...   \n",
       "3  Third Floor, Mega Fashion Hall, SM Megamall, O...   \n",
       "4  Third Floor, Mega Atrium, SM Megamall, Ortigas...   \n",
       "\n",
       "                                     Locality  \\\n",
       "0   Century City Mall, Poblacion, Makati City   \n",
       "1  Little Tokyo, Legaspi Village, Makati City   \n",
       "2  Edsa Shangri-La, Ortigas, Mandaluyong City   \n",
       "3      SM Megamall, Ortigas, Mandaluyong City   \n",
       "4      SM Megamall, Ortigas, Mandaluyong City   \n",
       "\n",
       "                                    Locality Verbose   Longitude   Latitude  \\\n",
       "0  Century City Mall, Poblacion, Makati City, Mak...  121.027535  14.565443   \n",
       "1  Little Tokyo, Legaspi Village, Makati City, Ma...  121.014101  14.553708   \n",
       "2  Edsa Shangri-La, Ortigas, Mandaluyong City, Ma...  121.056831  14.581404   \n",
       "3  SM Megamall, Ortigas, Mandaluyong City, Mandal...  121.056475  14.585318   \n",
       "4  SM Megamall, Ortigas, Mandaluyong City, Mandal...  121.057508  14.584450   \n",
       "\n",
       "                           Cuisines  ...          Currency Has Table booking  \\\n",
       "0        French, Japanese, Desserts  ...  Botswana Pula(P)               Yes   \n",
       "1                          Japanese  ...  Botswana Pula(P)               Yes   \n",
       "2  Seafood, Asian, Filipino, Indian  ...  Botswana Pula(P)               Yes   \n",
       "3                   Japanese, Sushi  ...  Botswana Pula(P)                No   \n",
       "4                  Japanese, Korean  ...  Botswana Pula(P)               Yes   \n",
       "\n",
       "  Has Online delivery Is delivering now Switch to order menu Price range  \\\n",
       "0                  No                No                   No           3   \n",
       "1                  No                No                   No           3   \n",
       "2                  No                No                   No           4   \n",
       "3                  No                No                   No           4   \n",
       "4                  No                No                   No           4   \n",
       "\n",
       "   Aggregate rating  Rating color Rating text Votes  \n",
       "0               4.8    Dark Green   Excellent   314  \n",
       "1               4.5    Dark Green   Excellent   591  \n",
       "2               4.4         Green   Very Good   270  \n",
       "3               4.9    Dark Green   Excellent   365  \n",
       "4               4.8    Dark Green   Excellent   229  \n",
       "\n",
       "[5 rows x 21 columns]"
      ]
     },
     "execution_count": 1,
     "metadata": {},
     "output_type": "execute_result"
    }
   ],
   "source": [
    "import pandas as pd\n",
    "\n",
    "df_rest = pd.read_csv(\"./zoomatod_restaurant_dataset/zomato.csv\", encoding='latin-1')\n",
    "df_rest.head()"
   ]
  },
  {
   "cell_type": "markdown",
   "metadata": {},
   "source": [
    "### Unique types of cuisines"
   ]
  },
  {
   "cell_type": "code",
   "execution_count": 26,
   "metadata": {},
   "outputs": [
    {
     "data": {
      "text/plain": [
       "145"
      ]
     },
     "execution_count": 26,
     "metadata": {},
     "output_type": "execute_result"
    }
   ],
   "source": [
    "df_rest[\"Cuisines\"].str.split(\", \").explode(\"Cuisines\").nunique()"
   ]
  },
  {
   "cell_type": "code",
   "execution_count": 2,
   "metadata": {},
   "outputs": [
    {
     "data": {
      "text/plain": [
       "Index(['Restaurant ID', 'Restaurant Name', 'Country Code', 'City', 'Address',\n",
       "       'Locality', 'Locality Verbose', 'Longitude', 'Latitude', 'Cuisines',\n",
       "       'Average Cost for two', 'Currency', 'Has Table booking',\n",
       "       'Has Online delivery', 'Is delivering now', 'Switch to order menu',\n",
       "       'Price range', 'Aggregate rating', 'Rating color', 'Rating text',\n",
       "       'Votes'],\n",
       "      dtype='object')"
      ]
     },
     "execution_count": 2,
     "metadata": {},
     "output_type": "execute_result"
    }
   ],
   "source": [
    "df_rest.columns"
   ]
  },
  {
   "cell_type": "code",
   "execution_count": 3,
   "metadata": {},
   "outputs": [
    {
     "name": "stdout",
     "output_type": "stream",
     "text": [
      "Index(['restaurant_id', 'restaurant_name', 'country_code', 'city', 'address',\n",
      "       'locality', 'locality_verbose', 'longitude', 'latitude', 'cuisines',\n",
      "       'average_cost_for_two', 'currency', 'has_table_booking',\n",
      "       'has_online_delivery', 'is_delivering_now', 'switch_to_order_menu',\n",
      "       'price_range', 'aggregate_rating', 'rating_color', 'rating_text',\n",
      "       'votes'],\n",
      "      dtype='object')\n"
     ]
    }
   ],
   "source": [
    "# Clean column names\n",
    "df_rest.columns = df_rest.columns.str.strip().str.lower().str.replace(' ', '_')\n",
    "\n",
    "# Display the new column names\n",
    "print(df_rest.columns)"
   ]
  },
  {
   "cell_type": "code",
   "execution_count": 4,
   "metadata": {},
   "outputs": [],
   "source": [
    "df_rest.to_csv(\"new_dataset.csv\", index=False)"
   ]
  },
  {
   "cell_type": "code",
   "execution_count": 6,
   "metadata": {},
   "outputs": [
    {
     "data": {
      "text/html": [
       "<div>\n",
       "<style scoped>\n",
       "    .dataframe tbody tr th:only-of-type {\n",
       "        vertical-align: middle;\n",
       "    }\n",
       "\n",
       "    .dataframe tbody tr th {\n",
       "        vertical-align: top;\n",
       "    }\n",
       "\n",
       "    .dataframe thead th {\n",
       "        text-align: right;\n",
       "    }\n",
       "</style>\n",
       "<table border=\"1\" class=\"dataframe\">\n",
       "  <thead>\n",
       "    <tr style=\"text-align: right;\">\n",
       "      <th></th>\n",
       "      <th>Country Code</th>\n",
       "      <th>Country</th>\n",
       "    </tr>\n",
       "  </thead>\n",
       "  <tbody>\n",
       "    <tr>\n",
       "      <th>0</th>\n",
       "      <td>1</td>\n",
       "      <td>India</td>\n",
       "    </tr>\n",
       "    <tr>\n",
       "      <th>1</th>\n",
       "      <td>14</td>\n",
       "      <td>Australia</td>\n",
       "    </tr>\n",
       "    <tr>\n",
       "      <th>2</th>\n",
       "      <td>30</td>\n",
       "      <td>Brazil</td>\n",
       "    </tr>\n",
       "    <tr>\n",
       "      <th>3</th>\n",
       "      <td>37</td>\n",
       "      <td>Canada</td>\n",
       "    </tr>\n",
       "    <tr>\n",
       "      <th>4</th>\n",
       "      <td>94</td>\n",
       "      <td>Indonesia</td>\n",
       "    </tr>\n",
       "  </tbody>\n",
       "</table>\n",
       "</div>"
      ],
      "text/plain": [
       "   Country Code    Country\n",
       "0             1      India\n",
       "1            14  Australia\n",
       "2            30     Brazil\n",
       "3            37     Canada\n",
       "4            94  Indonesia"
      ]
     },
     "execution_count": 6,
     "metadata": {},
     "output_type": "execute_result"
    }
   ],
   "source": [
    "df_country = pd.read_csv(\"Country-Code.csv\")\n",
    "\n",
    "df_country.head()"
   ]
  },
  {
   "cell_type": "code",
   "execution_count": null,
   "metadata": {},
   "outputs": [
    {
     "name": "stdout",
     "output_type": "stream",
     "text": [
      "Index(['country_code', 'country'], dtype='object')\n"
     ]
    }
   ],
   "source": [
    "# Clean column names\n",
    "df_country.columns = df_country.columns.str.strip().str.lower().str.replace(' ', '_')\n",
    "\n",
    "# Display the new column names\n",
    "print(df_country.columns)"
   ]
  },
  {
   "cell_type": "code",
   "execution_count": 8,
   "metadata": {},
   "outputs": [],
   "source": [
    "df_country.to_csv(\"Country-Code.csv\", index=False)"
   ]
  },
  {
   "cell_type": "markdown",
   "metadata": {},
   "source": [
    "#### Create smaller dataset to try to upload it in postgreSQL"
   ]
  },
  {
   "cell_type": "code",
   "execution_count": null,
   "metadata": {},
   "outputs": [],
   "source": [
    "df_rest = df_rest.rename(columns={\"Restaurant Name\": \"Name\", \"Restaurant ID\": \"Restaurant_ID\"})"
   ]
  },
  {
   "cell_type": "code",
   "execution_count": null,
   "metadata": {},
   "outputs": [
    {
     "data": {
      "text/plain": [
       "Restaurant_ID    0\n",
       "Name             0\n",
       "City             0\n",
       "Cuisines         9\n",
       "dtype: int64"
      ]
     },
     "execution_count": 16,
     "metadata": {},
     "output_type": "execute_result"
    }
   ],
   "source": [
    "df_rest.isna().sum()"
   ]
  },
  {
   "cell_type": "code",
   "execution_count": 17,
   "metadata": {},
   "outputs": [
    {
     "data": {
      "text/plain": [
       "Restaurant_ID    0\n",
       "Name             0\n",
       "City             0\n",
       "Cuisines         0\n",
       "dtype: int64"
      ]
     },
     "execution_count": 17,
     "metadata": {},
     "output_type": "execute_result"
    }
   ],
   "source": [
    "df_rest = df_rest.dropna()\n",
    "\n",
    "df_rest.isna().sum()"
   ]
  },
  {
   "cell_type": "code",
   "execution_count": 20,
   "metadata": {},
   "outputs": [],
   "source": [
    "df_rest.to_csv(\"new_dataset.csv\", index=False)"
   ]
  },
  {
   "cell_type": "markdown",
   "metadata": {},
   "source": [
    "#### Head"
   ]
  },
  {
   "cell_type": "code",
   "execution_count": 12,
   "metadata": {},
   "outputs": [
    {
     "data": {
      "text/html": [
       "<div>\n",
       "<style scoped>\n",
       "    .dataframe tbody tr th:only-of-type {\n",
       "        vertical-align: middle;\n",
       "    }\n",
       "\n",
       "    .dataframe tbody tr th {\n",
       "        vertical-align: top;\n",
       "    }\n",
       "\n",
       "    .dataframe thead th {\n",
       "        text-align: right;\n",
       "    }\n",
       "</style>\n",
       "<table border=\"1\" class=\"dataframe\">\n",
       "  <thead>\n",
       "    <tr style=\"text-align: right;\">\n",
       "      <th></th>\n",
       "      <th>Restaurant ID</th>\n",
       "      <th>Restaurant Name</th>\n",
       "      <th>Country Code</th>\n",
       "      <th>City</th>\n",
       "      <th>Address</th>\n",
       "      <th>Locality</th>\n",
       "      <th>Locality Verbose</th>\n",
       "      <th>Longitude</th>\n",
       "      <th>Latitude</th>\n",
       "      <th>Cuisines</th>\n",
       "      <th>...</th>\n",
       "      <th>Currency</th>\n",
       "      <th>Has Table booking</th>\n",
       "      <th>Has Online delivery</th>\n",
       "      <th>Is delivering now</th>\n",
       "      <th>Switch to order menu</th>\n",
       "      <th>Price range</th>\n",
       "      <th>Aggregate rating</th>\n",
       "      <th>Rating color</th>\n",
       "      <th>Rating text</th>\n",
       "      <th>Votes</th>\n",
       "    </tr>\n",
       "  </thead>\n",
       "  <tbody>\n",
       "    <tr>\n",
       "      <th>0</th>\n",
       "      <td>6317637</td>\n",
       "      <td>Le Petit Souffle</td>\n",
       "      <td>162</td>\n",
       "      <td>Makati City</td>\n",
       "      <td>Third Floor, Century City Mall, Kalayaan Avenu...</td>\n",
       "      <td>Century City Mall, Poblacion, Makati City</td>\n",
       "      <td>Century City Mall, Poblacion, Makati City, Mak...</td>\n",
       "      <td>121.027535</td>\n",
       "      <td>14.565443</td>\n",
       "      <td>French, Japanese, Desserts</td>\n",
       "      <td>...</td>\n",
       "      <td>Botswana Pula(P)</td>\n",
       "      <td>Yes</td>\n",
       "      <td>No</td>\n",
       "      <td>No</td>\n",
       "      <td>No</td>\n",
       "      <td>3</td>\n",
       "      <td>4.8</td>\n",
       "      <td>Dark Green</td>\n",
       "      <td>Excellent</td>\n",
       "      <td>314</td>\n",
       "    </tr>\n",
       "    <tr>\n",
       "      <th>1</th>\n",
       "      <td>6304287</td>\n",
       "      <td>Izakaya Kikufuji</td>\n",
       "      <td>162</td>\n",
       "      <td>Makati City</td>\n",
       "      <td>Little Tokyo, 2277 Chino Roces Avenue, Legaspi...</td>\n",
       "      <td>Little Tokyo, Legaspi Village, Makati City</td>\n",
       "      <td>Little Tokyo, Legaspi Village, Makati City, Ma...</td>\n",
       "      <td>121.014101</td>\n",
       "      <td>14.553708</td>\n",
       "      <td>Japanese</td>\n",
       "      <td>...</td>\n",
       "      <td>Botswana Pula(P)</td>\n",
       "      <td>Yes</td>\n",
       "      <td>No</td>\n",
       "      <td>No</td>\n",
       "      <td>No</td>\n",
       "      <td>3</td>\n",
       "      <td>4.5</td>\n",
       "      <td>Dark Green</td>\n",
       "      <td>Excellent</td>\n",
       "      <td>591</td>\n",
       "    </tr>\n",
       "    <tr>\n",
       "      <th>2</th>\n",
       "      <td>6300002</td>\n",
       "      <td>Heat - Edsa Shangri-La</td>\n",
       "      <td>162</td>\n",
       "      <td>Mandaluyong City</td>\n",
       "      <td>Edsa Shangri-La, 1 Garden Way, Ortigas, Mandal...</td>\n",
       "      <td>Edsa Shangri-La, Ortigas, Mandaluyong City</td>\n",
       "      <td>Edsa Shangri-La, Ortigas, Mandaluyong City, Ma...</td>\n",
       "      <td>121.056831</td>\n",
       "      <td>14.581404</td>\n",
       "      <td>Seafood, Asian, Filipino, Indian</td>\n",
       "      <td>...</td>\n",
       "      <td>Botswana Pula(P)</td>\n",
       "      <td>Yes</td>\n",
       "      <td>No</td>\n",
       "      <td>No</td>\n",
       "      <td>No</td>\n",
       "      <td>4</td>\n",
       "      <td>4.4</td>\n",
       "      <td>Green</td>\n",
       "      <td>Very Good</td>\n",
       "      <td>270</td>\n",
       "    </tr>\n",
       "    <tr>\n",
       "      <th>3</th>\n",
       "      <td>6318506</td>\n",
       "      <td>Ooma</td>\n",
       "      <td>162</td>\n",
       "      <td>Mandaluyong City</td>\n",
       "      <td>Third Floor, Mega Fashion Hall, SM Megamall, O...</td>\n",
       "      <td>SM Megamall, Ortigas, Mandaluyong City</td>\n",
       "      <td>SM Megamall, Ortigas, Mandaluyong City, Mandal...</td>\n",
       "      <td>121.056475</td>\n",
       "      <td>14.585318</td>\n",
       "      <td>Japanese, Sushi</td>\n",
       "      <td>...</td>\n",
       "      <td>Botswana Pula(P)</td>\n",
       "      <td>No</td>\n",
       "      <td>No</td>\n",
       "      <td>No</td>\n",
       "      <td>No</td>\n",
       "      <td>4</td>\n",
       "      <td>4.9</td>\n",
       "      <td>Dark Green</td>\n",
       "      <td>Excellent</td>\n",
       "      <td>365</td>\n",
       "    </tr>\n",
       "    <tr>\n",
       "      <th>4</th>\n",
       "      <td>6314302</td>\n",
       "      <td>Sambo Kojin</td>\n",
       "      <td>162</td>\n",
       "      <td>Mandaluyong City</td>\n",
       "      <td>Third Floor, Mega Atrium, SM Megamall, Ortigas...</td>\n",
       "      <td>SM Megamall, Ortigas, Mandaluyong City</td>\n",
       "      <td>SM Megamall, Ortigas, Mandaluyong City, Mandal...</td>\n",
       "      <td>121.057508</td>\n",
       "      <td>14.584450</td>\n",
       "      <td>Japanese, Korean</td>\n",
       "      <td>...</td>\n",
       "      <td>Botswana Pula(P)</td>\n",
       "      <td>Yes</td>\n",
       "      <td>No</td>\n",
       "      <td>No</td>\n",
       "      <td>No</td>\n",
       "      <td>4</td>\n",
       "      <td>4.8</td>\n",
       "      <td>Dark Green</td>\n",
       "      <td>Excellent</td>\n",
       "      <td>229</td>\n",
       "    </tr>\n",
       "  </tbody>\n",
       "</table>\n",
       "<p>5 rows × 21 columns</p>\n",
       "</div>"
      ],
      "text/plain": [
       "   Restaurant ID         Restaurant Name  Country Code              City  \\\n",
       "0        6317637        Le Petit Souffle           162       Makati City   \n",
       "1        6304287        Izakaya Kikufuji           162       Makati City   \n",
       "2        6300002  Heat - Edsa Shangri-La           162  Mandaluyong City   \n",
       "3        6318506                    Ooma           162  Mandaluyong City   \n",
       "4        6314302             Sambo Kojin           162  Mandaluyong City   \n",
       "\n",
       "                                             Address  \\\n",
       "0  Third Floor, Century City Mall, Kalayaan Avenu...   \n",
       "1  Little Tokyo, 2277 Chino Roces Avenue, Legaspi...   \n",
       "2  Edsa Shangri-La, 1 Garden Way, Ortigas, Mandal...   \n",
       "3  Third Floor, Mega Fashion Hall, SM Megamall, O...   \n",
       "4  Third Floor, Mega Atrium, SM Megamall, Ortigas...   \n",
       "\n",
       "                                     Locality  \\\n",
       "0   Century City Mall, Poblacion, Makati City   \n",
       "1  Little Tokyo, Legaspi Village, Makati City   \n",
       "2  Edsa Shangri-La, Ortigas, Mandaluyong City   \n",
       "3      SM Megamall, Ortigas, Mandaluyong City   \n",
       "4      SM Megamall, Ortigas, Mandaluyong City   \n",
       "\n",
       "                                    Locality Verbose   Longitude   Latitude  \\\n",
       "0  Century City Mall, Poblacion, Makati City, Mak...  121.027535  14.565443   \n",
       "1  Little Tokyo, Legaspi Village, Makati City, Ma...  121.014101  14.553708   \n",
       "2  Edsa Shangri-La, Ortigas, Mandaluyong City, Ma...  121.056831  14.581404   \n",
       "3  SM Megamall, Ortigas, Mandaluyong City, Mandal...  121.056475  14.585318   \n",
       "4  SM Megamall, Ortigas, Mandaluyong City, Mandal...  121.057508  14.584450   \n",
       "\n",
       "                           Cuisines  ...          Currency Has Table booking  \\\n",
       "0        French, Japanese, Desserts  ...  Botswana Pula(P)               Yes   \n",
       "1                          Japanese  ...  Botswana Pula(P)               Yes   \n",
       "2  Seafood, Asian, Filipino, Indian  ...  Botswana Pula(P)               Yes   \n",
       "3                   Japanese, Sushi  ...  Botswana Pula(P)                No   \n",
       "4                  Japanese, Korean  ...  Botswana Pula(P)               Yes   \n",
       "\n",
       "  Has Online delivery Is delivering now Switch to order menu Price range  \\\n",
       "0                  No                No                   No           3   \n",
       "1                  No                No                   No           3   \n",
       "2                  No                No                   No           4   \n",
       "3                  No                No                   No           4   \n",
       "4                  No                No                   No           4   \n",
       "\n",
       "   Aggregate rating  Rating color Rating text Votes  \n",
       "0               4.8    Dark Green   Excellent   314  \n",
       "1               4.5    Dark Green   Excellent   591  \n",
       "2               4.4         Green   Very Good   270  \n",
       "3               4.9    Dark Green   Excellent   365  \n",
       "4               4.8    Dark Green   Excellent   229  \n",
       "\n",
       "[5 rows x 21 columns]"
      ]
     },
     "execution_count": 12,
     "metadata": {},
     "output_type": "execute_result"
    }
   ],
   "source": [
    "df_rest.head()"
   ]
  },
  {
   "cell_type": "code",
   "execution_count": 47,
   "metadata": {},
   "outputs": [
    {
     "data": {
      "text/plain": [
       "1054"
      ]
     },
     "execution_count": 47,
     "metadata": {},
     "output_type": "execute_result"
    }
   ],
   "source": [
    "len(df_rest[(df_rest['Aggregate rating'] == 0) & (df_rest['Votes'] > 0)])"
   ]
  },
  {
   "cell_type": "markdown",
   "metadata": {},
   "source": [
    "#### Columns"
   ]
  },
  {
   "cell_type": "code",
   "execution_count": 13,
   "metadata": {},
   "outputs": [
    {
     "data": {
      "text/plain": [
       "Index(['Restaurant ID', 'Restaurant Name', 'Country Code', 'City', 'Address',\n",
       "       'Locality', 'Locality Verbose', 'Longitude', 'Latitude', 'Cuisines',\n",
       "       'Average Cost for two', 'Currency', 'Has Table booking',\n",
       "       'Has Online delivery', 'Is delivering now', 'Switch to order menu',\n",
       "       'Price range', 'Aggregate rating', 'Rating color', 'Rating text',\n",
       "       'Votes'],\n",
       "      dtype='object')"
      ]
     },
     "execution_count": 13,
     "metadata": {},
     "output_type": "execute_result"
    }
   ],
   "source": [
    "df_rest.columns"
   ]
  },
  {
   "cell_type": "markdown",
   "metadata": {},
   "source": [
    "#### Missing Data"
   ]
  },
  {
   "cell_type": "code",
   "execution_count": 15,
   "metadata": {},
   "outputs": [
    {
     "data": {
      "text/plain": [
       "Restaurant ID           0\n",
       "Restaurant Name         0\n",
       "Country Code            0\n",
       "City                    0\n",
       "Address                 0\n",
       "Locality                0\n",
       "Locality Verbose        0\n",
       "Longitude               0\n",
       "Latitude                0\n",
       "Cuisines                9\n",
       "Average Cost for two    0\n",
       "Currency                0\n",
       "Has Table booking       0\n",
       "Has Online delivery     0\n",
       "Is delivering now       0\n",
       "Switch to order menu    0\n",
       "Price range             0\n",
       "Aggregate rating        0\n",
       "Rating color            0\n",
       "Rating text             0\n",
       "Votes                   0\n",
       "dtype: int64"
      ]
     },
     "execution_count": 15,
     "metadata": {},
     "output_type": "execute_result"
    }
   ],
   "source": [
    "df_rest.isna().sum()"
   ]
  }
 ],
 "metadata": {
  "kernelspec": {
   "display_name": "base",
   "language": "python",
   "name": "python3"
  },
  "language_info": {
   "codemirror_mode": {
    "name": "ipython",
    "version": 3
   },
   "file_extension": ".py",
   "mimetype": "text/x-python",
   "name": "python",
   "nbconvert_exporter": "python",
   "pygments_lexer": "ipython3",
   "version": "3.12.7"
  }
 },
 "nbformat": 4,
 "nbformat_minor": 2
}
