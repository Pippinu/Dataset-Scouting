{
    "cells": [
        {
            "cell_type": "code",
            "execution_count": 2,
            "metadata": {},
            "outputs": [
                {
                    "name": "stdout",
                    "output_type": "stream",
                    "text": [
                        "Warning: Looks like you're using an outdated `kagglehub` version, please consider updating (latest version: 0.3.11)\n",
                        "Downloading from https://www.kaggle.com/api/v1/datasets/download/shrutimehta/zomato-restaurants-data?dataset_version_number=2...\n"
                    ]
                },
                {
                    "name": "stderr",
                    "output_type": "stream",
                    "text": [
                        "100%|██████████| 5.47M/5.47M [00:02<00:00, 2.35MB/s]"
                    ]
                },
                {
                    "name": "stdout",
                    "output_type": "stream",
                    "text": [
                        "Extracting model files...\n"
                    ]
                },
                {
                    "name": "stderr",
                    "output_type": "stream",
                    "text": [
                        "\n"
                    ]
                },
                {
                    "name": "stdout",
                    "output_type": "stream",
                    "text": [
                        "Path to dataset files: C:\\Users\\Xxqas\\.cache\\kagglehub\\datasets\\shrutimehta\\zomato-restaurants-data\\versions\\2\n"
                    ]
                }
            ],
            "source": [
                "import kagglehub\n",
                "\n",
                "# Download latest version\n",
                "path = kagglehub.dataset_download(\"shrutimehta/zomato-restaurants-data\")\n",
                "\n",
                "print(\"Path to dataset files:\", path)"
            ]
        },
        {
            "cell_type": "code",
            "execution_count": 3,
            "metadata": {},
            "outputs": [
                {
                    "data": {
                        "application/vnd.microsoft.datawrangler.viewer.v0+json": {
                            "columns": [
                                {
                                    "name": "index",
                                    "rawType": "int64",
                                    "type": "integer"
                                },
                                {
                                    "name": "Restaurant ID",
                                    "rawType": "int64",
                                    "type": "integer"
                                },
                                {
                                    "name": "Restaurant Name",
                                    "rawType": "object",
                                    "type": "string"
                                },
                                {
                                    "name": "Country Code",
                                    "rawType": "int64",
                                    "type": "integer"
                                },
                                {
                                    "name": "City",
                                    "rawType": "object",
                                    "type": "string"
                                },
                                {
                                    "name": "Address",
                                    "rawType": "object",
                                    "type": "string"
                                },
                                {
                                    "name": "Locality",
                                    "rawType": "object",
                                    "type": "string"
                                },
                                {
                                    "name": "Locality Verbose",
                                    "rawType": "object",
                                    "type": "string"
                                },
                                {
                                    "name": "Longitude",
                                    "rawType": "float64",
                                    "type": "float"
                                },
                                {
                                    "name": "Latitude",
                                    "rawType": "float64",
                                    "type": "float"
                                },
                                {
                                    "name": "Cuisines",
                                    "rawType": "object",
                                    "type": "string"
                                },
                                {
                                    "name": "Average Cost for two",
                                    "rawType": "int64",
                                    "type": "integer"
                                },
                                {
                                    "name": "Currency",
                                    "rawType": "object",
                                    "type": "string"
                                },
                                {
                                    "name": "Has Table booking",
                                    "rawType": "object",
                                    "type": "string"
                                },
                                {
                                    "name": "Has Online delivery",
                                    "rawType": "object",
                                    "type": "string"
                                },
                                {
                                    "name": "Is delivering now",
                                    "rawType": "object",
                                    "type": "string"
                                },
                                {
                                    "name": "Switch to order menu",
                                    "rawType": "object",
                                    "type": "string"
                                },
                                {
                                    "name": "Price range",
                                    "rawType": "int64",
                                    "type": "integer"
                                },
                                {
                                    "name": "Aggregate rating",
                                    "rawType": "float64",
                                    "type": "float"
                                },
                                {
                                    "name": "Rating color",
                                    "rawType": "object",
                                    "type": "string"
                                },
                                {
                                    "name": "Rating text",
                                    "rawType": "object",
                                    "type": "string"
                                },
                                {
                                    "name": "Votes",
                                    "rawType": "int64",
                                    "type": "integer"
                                }
                            ],
                            "conversionMethod": "pd.DataFrame",
                            "ref": "98f2a0eb-2c81-4a71-87d9-50ceecf43355",
                            "rows": [
                                [
                                    "0",
                                    "6317637",
                                    "Le Petit Souffle",
                                    "162",
                                    "Makati City",
                                    "Third Floor, Century City Mall, Kalayaan Avenue, Poblacion, Makati City",
                                    "Century City Mall, Poblacion, Makati City",
                                    "Century City Mall, Poblacion, Makati City, Makati City",
                                    "121.027535",
                                    "14.565443",
                                    "French, Japanese, Desserts",
                                    "1100",
                                    "Botswana Pula(P)",
                                    "Yes",
                                    "No",
                                    "No",
                                    "No",
                                    "3",
                                    "4.8",
                                    "Dark Green",
                                    "Excellent",
                                    "314"
                                ],
                                [
                                    "1",
                                    "6304287",
                                    "Izakaya Kikufuji",
                                    "162",
                                    "Makati City",
                                    "Little Tokyo, 2277 Chino Roces Avenue, Legaspi Village, Makati City",
                                    "Little Tokyo, Legaspi Village, Makati City",
                                    "Little Tokyo, Legaspi Village, Makati City, Makati City",
                                    "121.014101",
                                    "14.553708",
                                    "Japanese",
                                    "1200",
                                    "Botswana Pula(P)",
                                    "Yes",
                                    "No",
                                    "No",
                                    "No",
                                    "3",
                                    "4.5",
                                    "Dark Green",
                                    "Excellent",
                                    "591"
                                ],
                                [
                                    "2",
                                    "6300002",
                                    "Heat - Edsa Shangri-La",
                                    "162",
                                    "Mandaluyong City",
                                    "Edsa Shangri-La, 1 Garden Way, Ortigas, Mandaluyong City",
                                    "Edsa Shangri-La, Ortigas, Mandaluyong City",
                                    "Edsa Shangri-La, Ortigas, Mandaluyong City, Mandaluyong City",
                                    "121.056831",
                                    "14.581404",
                                    "Seafood, Asian, Filipino, Indian",
                                    "4000",
                                    "Botswana Pula(P)",
                                    "Yes",
                                    "No",
                                    "No",
                                    "No",
                                    "4",
                                    "4.4",
                                    "Green",
                                    "Very Good",
                                    "270"
                                ],
                                [
                                    "3",
                                    "6318506",
                                    "Ooma",
                                    "162",
                                    "Mandaluyong City",
                                    "Third Floor, Mega Fashion Hall, SM Megamall, Ortigas, Mandaluyong City",
                                    "SM Megamall, Ortigas, Mandaluyong City",
                                    "SM Megamall, Ortigas, Mandaluyong City, Mandaluyong City",
                                    "121.056475",
                                    "14.585318",
                                    "Japanese, Sushi",
                                    "1500",
                                    "Botswana Pula(P)",
                                    "No",
                                    "No",
                                    "No",
                                    "No",
                                    "4",
                                    "4.9",
                                    "Dark Green",
                                    "Excellent",
                                    "365"
                                ],
                                [
                                    "4",
                                    "6314302",
                                    "Sambo Kojin",
                                    "162",
                                    "Mandaluyong City",
                                    "Third Floor, Mega Atrium, SM Megamall, Ortigas, Mandaluyong City",
                                    "SM Megamall, Ortigas, Mandaluyong City",
                                    "SM Megamall, Ortigas, Mandaluyong City, Mandaluyong City",
                                    "121.057508",
                                    "14.58445",
                                    "Japanese, Korean",
                                    "1500",
                                    "Botswana Pula(P)",
                                    "Yes",
                                    "No",
                                    "No",
                                    "No",
                                    "4",
                                    "4.8",
                                    "Dark Green",
                                    "Excellent",
                                    "229"
                                ]
                            ],
                            "shape": {
                                "columns": 21,
                                "rows": 5
                            }
                        },
                        "text/html": [
                            "<div>\n",
                            "<style scoped>\n",
                            "    .dataframe tbody tr th:only-of-type {\n",
                            "        vertical-align: middle;\n",
                            "    }\n",
                            "\n",
                            "    .dataframe tbody tr th {\n",
                            "        vertical-align: top;\n",
                            "    }\n",
                            "\n",
                            "    .dataframe thead th {\n",
                            "        text-align: right;\n",
                            "    }\n",
                            "</style>\n",
                            "<table border=\"1\" class=\"dataframe\">\n",
                            "  <thead>\n",
                            "    <tr style=\"text-align: right;\">\n",
                            "      <th></th>\n",
                            "      <th>Restaurant ID</th>\n",
                            "      <th>Restaurant Name</th>\n",
                            "      <th>Country Code</th>\n",
                            "      <th>City</th>\n",
                            "      <th>Address</th>\n",
                            "      <th>Locality</th>\n",
                            "      <th>Locality Verbose</th>\n",
                            "      <th>Longitude</th>\n",
                            "      <th>Latitude</th>\n",
                            "      <th>Cuisines</th>\n",
                            "      <th>...</th>\n",
                            "      <th>Currency</th>\n",
                            "      <th>Has Table booking</th>\n",
                            "      <th>Has Online delivery</th>\n",
                            "      <th>Is delivering now</th>\n",
                            "      <th>Switch to order menu</th>\n",
                            "      <th>Price range</th>\n",
                            "      <th>Aggregate rating</th>\n",
                            "      <th>Rating color</th>\n",
                            "      <th>Rating text</th>\n",
                            "      <th>Votes</th>\n",
                            "    </tr>\n",
                            "  </thead>\n",
                            "  <tbody>\n",
                            "    <tr>\n",
                            "      <th>0</th>\n",
                            "      <td>6317637</td>\n",
                            "      <td>Le Petit Souffle</td>\n",
                            "      <td>162</td>\n",
                            "      <td>Makati City</td>\n",
                            "      <td>Third Floor, Century City Mall, Kalayaan Avenu...</td>\n",
                            "      <td>Century City Mall, Poblacion, Makati City</td>\n",
                            "      <td>Century City Mall, Poblacion, Makati City, Mak...</td>\n",
                            "      <td>121.027535</td>\n",
                            "      <td>14.565443</td>\n",
                            "      <td>French, Japanese, Desserts</td>\n",
                            "      <td>...</td>\n",
                            "      <td>Botswana Pula(P)</td>\n",
                            "      <td>Yes</td>\n",
                            "      <td>No</td>\n",
                            "      <td>No</td>\n",
                            "      <td>No</td>\n",
                            "      <td>3</td>\n",
                            "      <td>4.8</td>\n",
                            "      <td>Dark Green</td>\n",
                            "      <td>Excellent</td>\n",
                            "      <td>314</td>\n",
                            "    </tr>\n",
                            "    <tr>\n",
                            "      <th>1</th>\n",
                            "      <td>6304287</td>\n",
                            "      <td>Izakaya Kikufuji</td>\n",
                            "      <td>162</td>\n",
                            "      <td>Makati City</td>\n",
                            "      <td>Little Tokyo, 2277 Chino Roces Avenue, Legaspi...</td>\n",
                            "      <td>Little Tokyo, Legaspi Village, Makati City</td>\n",
                            "      <td>Little Tokyo, Legaspi Village, Makati City, Ma...</td>\n",
                            "      <td>121.014101</td>\n",
                            "      <td>14.553708</td>\n",
                            "      <td>Japanese</td>\n",
                            "      <td>...</td>\n",
                            "      <td>Botswana Pula(P)</td>\n",
                            "      <td>Yes</td>\n",
                            "      <td>No</td>\n",
                            "      <td>No</td>\n",
                            "      <td>No</td>\n",
                            "      <td>3</td>\n",
                            "      <td>4.5</td>\n",
                            "      <td>Dark Green</td>\n",
                            "      <td>Excellent</td>\n",
                            "      <td>591</td>\n",
                            "    </tr>\n",
                            "    <tr>\n",
                            "      <th>2</th>\n",
                            "      <td>6300002</td>\n",
                            "      <td>Heat - Edsa Shangri-La</td>\n",
                            "      <td>162</td>\n",
                            "      <td>Mandaluyong City</td>\n",
                            "      <td>Edsa Shangri-La, 1 Garden Way, Ortigas, Mandal...</td>\n",
                            "      <td>Edsa Shangri-La, Ortigas, Mandaluyong City</td>\n",
                            "      <td>Edsa Shangri-La, Ortigas, Mandaluyong City, Ma...</td>\n",
                            "      <td>121.056831</td>\n",
                            "      <td>14.581404</td>\n",
                            "      <td>Seafood, Asian, Filipino, Indian</td>\n",
                            "      <td>...</td>\n",
                            "      <td>Botswana Pula(P)</td>\n",
                            "      <td>Yes</td>\n",
                            "      <td>No</td>\n",
                            "      <td>No</td>\n",
                            "      <td>No</td>\n",
                            "      <td>4</td>\n",
                            "      <td>4.4</td>\n",
                            "      <td>Green</td>\n",
                            "      <td>Very Good</td>\n",
                            "      <td>270</td>\n",
                            "    </tr>\n",
                            "    <tr>\n",
                            "      <th>3</th>\n",
                            "      <td>6318506</td>\n",
                            "      <td>Ooma</td>\n",
                            "      <td>162</td>\n",
                            "      <td>Mandaluyong City</td>\n",
                            "      <td>Third Floor, Mega Fashion Hall, SM Megamall, O...</td>\n",
                            "      <td>SM Megamall, Ortigas, Mandaluyong City</td>\n",
                            "      <td>SM Megamall, Ortigas, Mandaluyong City, Mandal...</td>\n",
                            "      <td>121.056475</td>\n",
                            "      <td>14.585318</td>\n",
                            "      <td>Japanese, Sushi</td>\n",
                            "      <td>...</td>\n",
                            "      <td>Botswana Pula(P)</td>\n",
                            "      <td>No</td>\n",
                            "      <td>No</td>\n",
                            "      <td>No</td>\n",
                            "      <td>No</td>\n",
                            "      <td>4</td>\n",
                            "      <td>4.9</td>\n",
                            "      <td>Dark Green</td>\n",
                            "      <td>Excellent</td>\n",
                            "      <td>365</td>\n",
                            "    </tr>\n",
                            "    <tr>\n",
                            "      <th>4</th>\n",
                            "      <td>6314302</td>\n",
                            "      <td>Sambo Kojin</td>\n",
                            "      <td>162</td>\n",
                            "      <td>Mandaluyong City</td>\n",
                            "      <td>Third Floor, Mega Atrium, SM Megamall, Ortigas...</td>\n",
                            "      <td>SM Megamall, Ortigas, Mandaluyong City</td>\n",
                            "      <td>SM Megamall, Ortigas, Mandaluyong City, Mandal...</td>\n",
                            "      <td>121.057508</td>\n",
                            "      <td>14.584450</td>\n",
                            "      <td>Japanese, Korean</td>\n",
                            "      <td>...</td>\n",
                            "      <td>Botswana Pula(P)</td>\n",
                            "      <td>Yes</td>\n",
                            "      <td>No</td>\n",
                            "      <td>No</td>\n",
                            "      <td>No</td>\n",
                            "      <td>4</td>\n",
                            "      <td>4.8</td>\n",
                            "      <td>Dark Green</td>\n",
                            "      <td>Excellent</td>\n",
                            "      <td>229</td>\n",
                            "    </tr>\n",
                            "  </tbody>\n",
                            "</table>\n",
                            "<p>5 rows × 21 columns</p>\n",
                            "</div>"
                        ],
                        "text/plain": [
                            "   Restaurant ID         Restaurant Name  Country Code              City  \\\n",
                            "0        6317637        Le Petit Souffle           162       Makati City   \n",
                            "1        6304287        Izakaya Kikufuji           162       Makati City   \n",
                            "2        6300002  Heat - Edsa Shangri-La           162  Mandaluyong City   \n",
                            "3        6318506                    Ooma           162  Mandaluyong City   \n",
                            "4        6314302             Sambo Kojin           162  Mandaluyong City   \n",
                            "\n",
                            "                                             Address  \\\n",
                            "0  Third Floor, Century City Mall, Kalayaan Avenu...   \n",
                            "1  Little Tokyo, 2277 Chino Roces Avenue, Legaspi...   \n",
                            "2  Edsa Shangri-La, 1 Garden Way, Ortigas, Mandal...   \n",
                            "3  Third Floor, Mega Fashion Hall, SM Megamall, O...   \n",
                            "4  Third Floor, Mega Atrium, SM Megamall, Ortigas...   \n",
                            "\n",
                            "                                     Locality  \\\n",
                            "0   Century City Mall, Poblacion, Makati City   \n",
                            "1  Little Tokyo, Legaspi Village, Makati City   \n",
                            "2  Edsa Shangri-La, Ortigas, Mandaluyong City   \n",
                            "3      SM Megamall, Ortigas, Mandaluyong City   \n",
                            "4      SM Megamall, Ortigas, Mandaluyong City   \n",
                            "\n",
                            "                                    Locality Verbose   Longitude   Latitude  \\\n",
                            "0  Century City Mall, Poblacion, Makati City, Mak...  121.027535  14.565443   \n",
                            "1  Little Tokyo, Legaspi Village, Makati City, Ma...  121.014101  14.553708   \n",
                            "2  Edsa Shangri-La, Ortigas, Mandaluyong City, Ma...  121.056831  14.581404   \n",
                            "3  SM Megamall, Ortigas, Mandaluyong City, Mandal...  121.056475  14.585318   \n",
                            "4  SM Megamall, Ortigas, Mandaluyong City, Mandal...  121.057508  14.584450   \n",
                            "\n",
                            "                           Cuisines  ...          Currency Has Table booking  \\\n",
                            "0        French, Japanese, Desserts  ...  Botswana Pula(P)               Yes   \n",
                            "1                          Japanese  ...  Botswana Pula(P)               Yes   \n",
                            "2  Seafood, Asian, Filipino, Indian  ...  Botswana Pula(P)               Yes   \n",
                            "3                   Japanese, Sushi  ...  Botswana Pula(P)                No   \n",
                            "4                  Japanese, Korean  ...  Botswana Pula(P)               Yes   \n",
                            "\n",
                            "  Has Online delivery Is delivering now Switch to order menu Price range  \\\n",
                            "0                  No                No                   No           3   \n",
                            "1                  No                No                   No           3   \n",
                            "2                  No                No                   No           4   \n",
                            "3                  No                No                   No           4   \n",
                            "4                  No                No                   No           4   \n",
                            "\n",
                            "   Aggregate rating  Rating color Rating text Votes  \n",
                            "0               4.8    Dark Green   Excellent   314  \n",
                            "1               4.5    Dark Green   Excellent   591  \n",
                            "2               4.4         Green   Very Good   270  \n",
                            "3               4.9    Dark Green   Excellent   365  \n",
                            "4               4.8    Dark Green   Excellent   229  \n",
                            "\n",
                            "[5 rows x 21 columns]"
                        ]
                    },
                    "execution_count": 3,
                    "metadata": {},
                    "output_type": "execute_result"
                }
            ],
            "source": [
                "# Importa le librerie necessarie\n",
                "import pandas as pd\n",
                "import matplotlib.pyplot as plt\n",
                "import seaborn as sns\n",
                "\n",
                "# Carica il dataset\n",
                "file_path = 'zomato.csv'  # Assicurati che il file sia nella stessa directory\n",
                "df = pd.read_csv(file_path, encoding='latin-1')\n",
                "\n",
                "# Visualizza le prime righe del dataset\n",
                "df.head()"
            ]
        },
        {
            "cell_type": "code",
            "execution_count": 4,
            "metadata": {},
            "outputs": [
                {
                    "data": {
                        "text/plain": [
                            "Restaurant ID           0\n",
                            "Restaurant Name         0\n",
                            "Country Code            0\n",
                            "City                    0\n",
                            "Address                 0\n",
                            "Locality                0\n",
                            "Locality Verbose        0\n",
                            "Longitude               0\n",
                            "Latitude                0\n",
                            "Cuisines                9\n",
                            "Average Cost for two    0\n",
                            "Currency                0\n",
                            "Has Table booking       0\n",
                            "Has Online delivery     0\n",
                            "Is delivering now       0\n",
                            "Switch to order menu    0\n",
                            "Price range             0\n",
                            "Aggregate rating        0\n",
                            "Rating color            0\n",
                            "Rating text             0\n",
                            "Votes                   0\n",
                            "dtype: int64"
                        ]
                    },
                    "execution_count": 4,
                    "metadata": {},
                    "output_type": "execute_result"
                }
            ],
            "source": [
                "# Check NULL values\n",
                "df.isnull().sum()"
            ]
        },
        {
            "cell_type": "markdown",
            "metadata": {},
            "source": [
                "Given that there are some null values in \"cuisine\" columns, we drop this rows to avoid data import issues."
            ]
        },
        {
            "cell_type": "code",
            "execution_count": 5,
            "metadata": {},
            "outputs": [
                {
                    "data": {
                        "text/plain": [
                            "Restaurant ID           0\n",
                            "Restaurant Name         0\n",
                            "Country Code            0\n",
                            "City                    0\n",
                            "Address                 0\n",
                            "Locality                0\n",
                            "Locality Verbose        0\n",
                            "Longitude               0\n",
                            "Latitude                0\n",
                            "Cuisines                0\n",
                            "Average Cost for two    0\n",
                            "Currency                0\n",
                            "Has Table booking       0\n",
                            "Has Online delivery     0\n",
                            "Is delivering now       0\n",
                            "Switch to order menu    0\n",
                            "Price range             0\n",
                            "Aggregate rating        0\n",
                            "Rating color            0\n",
                            "Rating text             0\n",
                            "Votes                   0\n",
                            "dtype: int64"
                        ]
                    },
                    "execution_count": 5,
                    "metadata": {},
                    "output_type": "execute_result"
                }
            ],
            "source": [
                "df = df.dropna()\n",
                "\n",
                "# Check NULL values\n",
                "df.isnull().sum()"
            ]
        },
        {
            "cell_type": "code",
            "execution_count": 6,
            "metadata": {},
            "outputs": [
                {
                    "data": {
                        "text/plain": [
                            "Index(['Restaurant ID', 'Restaurant Name', 'Country Code', 'City', 'Address',\n",
                            "       'Locality', 'Locality Verbose', 'Longitude', 'Latitude', 'Cuisines',\n",
                            "       'Average Cost for two', 'Currency', 'Has Table booking',\n",
                            "       'Has Online delivery', 'Is delivering now', 'Switch to order menu',\n",
                            "       'Price range', 'Aggregate rating', 'Rating color', 'Rating text',\n",
                            "       'Votes'],\n",
                            "      dtype='object')"
                        ]
                    },
                    "execution_count": 6,
                    "metadata": {},
                    "output_type": "execute_result"
                }
            ],
            "source": [
                "df.columns"
            ]
        },
        {
            "cell_type": "code",
            "execution_count": 7,
            "metadata": {},
            "outputs": [
                {
                    "data": {
                        "text/plain": [
                            "Index(['restaurant_id', 'restaurant_name', 'country_code', 'city', 'address',\n",
                            "       'locality', 'locality_verbose', 'longitude', 'latitude', 'cuisines',\n",
                            "       'average_cost_for_two', 'currency', 'has_table_booking',\n",
                            "       'has_online_delivery', 'is_delivering_now', 'switch_to_order_menu',\n",
                            "       'price_range', 'aggregate_rating', 'rating_color', 'rating_text',\n",
                            "       'votes'],\n",
                            "      dtype='object')"
                        ]
                    },
                    "execution_count": 7,
                    "metadata": {},
                    "output_type": "execute_result"
                }
            ],
            "source": [
                "# Clean columns name by changing to lower case and replacing whitespace with underscore\n",
                "df.columns = df.columns.str.strip().str.lower().str.replace(' ', '_')\n",
                "\n",
                "# Display the new column names\n",
                "df.columns"
            ]
        },
        {
            "cell_type": "code",
            "execution_count": 8,
            "metadata": {},
            "outputs": [
                {
                    "name": "stdout",
                    "output_type": "stream",
                    "text": [
                        "<class 'pandas.core.frame.DataFrame'>\n",
                        "Index: 9542 entries, 0 to 9550\n",
                        "Data columns (total 21 columns):\n",
                        " #   Column                Non-Null Count  Dtype  \n",
                        "---  ------                --------------  -----  \n",
                        " 0   restaurant_id         9542 non-null   int64  \n",
                        " 1   restaurant_name       9542 non-null   object \n",
                        " 2   country_code          9542 non-null   int64  \n",
                        " 3   city                  9542 non-null   object \n",
                        " 4   address               9542 non-null   object \n",
                        " 5   locality              9542 non-null   object \n",
                        " 6   locality_verbose      9542 non-null   object \n",
                        " 7   longitude             9542 non-null   float64\n",
                        " 8   latitude              9542 non-null   float64\n",
                        " 9   cuisines              9542 non-null   object \n",
                        " 10  average_cost_for_two  9542 non-null   int64  \n",
                        " 11  currency              9542 non-null   object \n",
                        " 12  has_table_booking     9542 non-null   object \n",
                        " 13  has_online_delivery   9542 non-null   object \n",
                        " 14  is_delivering_now     9542 non-null   object \n",
                        " 15  switch_to_order_menu  9542 non-null   object \n",
                        " 16  price_range           9542 non-null   int64  \n",
                        " 17  aggregate_rating      9542 non-null   float64\n",
                        " 18  rating_color          9542 non-null   object \n",
                        " 19  rating_text           9542 non-null   object \n",
                        " 20  votes                 9542 non-null   int64  \n",
                        "dtypes: float64(3), int64(5), object(13)\n",
                        "memory usage: 1.6+ MB\n"
                    ]
                }
            ],
            "source": [
                "# Informazioni generali sul dataset\n",
                "df.info()"
            ]
        },
        {
            "cell_type": "code",
            "execution_count": 9,
            "metadata": {},
            "outputs": [
                {
                    "data": {
                        "application/vnd.microsoft.datawrangler.viewer.v0+json": {
                            "columns": [
                                {
                                    "name": "index",
                                    "rawType": "object",
                                    "type": "string"
                                },
                                {
                                    "name": "restaurant_id",
                                    "rawType": "float64",
                                    "type": "float"
                                },
                                {
                                    "name": "country_code",
                                    "rawType": "float64",
                                    "type": "float"
                                },
                                {
                                    "name": "longitude",
                                    "rawType": "float64",
                                    "type": "float"
                                },
                                {
                                    "name": "latitude",
                                    "rawType": "float64",
                                    "type": "float"
                                },
                                {
                                    "name": "average_cost_for_two",
                                    "rawType": "float64",
                                    "type": "float"
                                },
                                {
                                    "name": "price_range",
                                    "rawType": "float64",
                                    "type": "float"
                                },
                                {
                                    "name": "aggregate_rating",
                                    "rawType": "float64",
                                    "type": "float"
                                },
                                {
                                    "name": "votes",
                                    "rawType": "float64",
                                    "type": "float"
                                }
                            ],
                            "conversionMethod": "pd.DataFrame",
                            "ref": "aedade87-894b-49c2-b72b-e9697d20d47e",
                            "rows": [
                                [
                                    "count",
                                    "9542.0",
                                    "9542.0",
                                    "9542.0",
                                    "9542.0",
                                    "9542.0",
                                    "9542.0",
                                    "9542.0",
                                    "9542.0"
                                ],
                                [
                                    "mean",
                                    "9043300.51917837",
                                    "18.179207713267658",
                                    "64.27499746924892",
                                    "25.84853159488723",
                                    "1200.3261370781806",
                                    "1.8049675120519808",
                                    "2.665237895619367",
                                    "156.7720603647034"
                                ],
                                [
                                    "std",
                                    "8791967.358291535",
                                    "56.45159962091277",
                                    "41.197602202141574",
                                    "11.010093773469219",
                                    "16128.743875545339",
                                    "0.9055630824943393",
                                    "1.516587508208202",
                                    "430.2033235755895"
                                ],
                                [
                                    "min",
                                    "53.0",
                                    "1.0",
                                    "-157.948486",
                                    "-41.330428",
                                    "0.0",
                                    "1.0",
                                    "0.0",
                                    "0.0"
                                ],
                                [
                                    "25%",
                                    "301931.25",
                                    "1.0",
                                    "77.081564625",
                                    "28.4786584",
                                    "250.0",
                                    "1.0",
                                    "2.5",
                                    "5.0"
                                ],
                                [
                                    "50%",
                                    "6002725.5",
                                    "1.0",
                                    "77.19203060000001",
                                    "28.570443775",
                                    "400.0",
                                    "2.0",
                                    "3.2",
                                    "31.0"
                                ],
                                [
                                    "75%",
                                    "18352604.25",
                                    "1.0",
                                    "77.28204322",
                                    "28.64271075",
                                    "700.0",
                                    "2.0",
                                    "3.7",
                                    "130.0"
                                ],
                                [
                                    "max",
                                    "18500652.0",
                                    "216.0",
                                    "174.8320893",
                                    "55.97698",
                                    "800000.0",
                                    "4.0",
                                    "4.9",
                                    "10934.0"
                                ]
                            ],
                            "shape": {
                                "columns": 8,
                                "rows": 8
                            }
                        },
                        "text/html": [
                            "<div>\n",
                            "<style scoped>\n",
                            "    .dataframe tbody tr th:only-of-type {\n",
                            "        vertical-align: middle;\n",
                            "    }\n",
                            "\n",
                            "    .dataframe tbody tr th {\n",
                            "        vertical-align: top;\n",
                            "    }\n",
                            "\n",
                            "    .dataframe thead th {\n",
                            "        text-align: right;\n",
                            "    }\n",
                            "</style>\n",
                            "<table border=\"1\" class=\"dataframe\">\n",
                            "  <thead>\n",
                            "    <tr style=\"text-align: right;\">\n",
                            "      <th></th>\n",
                            "      <th>restaurant_id</th>\n",
                            "      <th>country_code</th>\n",
                            "      <th>longitude</th>\n",
                            "      <th>latitude</th>\n",
                            "      <th>average_cost_for_two</th>\n",
                            "      <th>price_range</th>\n",
                            "      <th>aggregate_rating</th>\n",
                            "      <th>votes</th>\n",
                            "    </tr>\n",
                            "  </thead>\n",
                            "  <tbody>\n",
                            "    <tr>\n",
                            "      <th>count</th>\n",
                            "      <td>9.542000e+03</td>\n",
                            "      <td>9542.000000</td>\n",
                            "      <td>9542.000000</td>\n",
                            "      <td>9542.000000</td>\n",
                            "      <td>9542.000000</td>\n",
                            "      <td>9542.000000</td>\n",
                            "      <td>9542.000000</td>\n",
                            "      <td>9542.000000</td>\n",
                            "    </tr>\n",
                            "    <tr>\n",
                            "      <th>mean</th>\n",
                            "      <td>9.043301e+06</td>\n",
                            "      <td>18.179208</td>\n",
                            "      <td>64.274997</td>\n",
                            "      <td>25.848532</td>\n",
                            "      <td>1200.326137</td>\n",
                            "      <td>1.804968</td>\n",
                            "      <td>2.665238</td>\n",
                            "      <td>156.772060</td>\n",
                            "    </tr>\n",
                            "    <tr>\n",
                            "      <th>std</th>\n",
                            "      <td>8.791967e+06</td>\n",
                            "      <td>56.451600</td>\n",
                            "      <td>41.197602</td>\n",
                            "      <td>11.010094</td>\n",
                            "      <td>16128.743876</td>\n",
                            "      <td>0.905563</td>\n",
                            "      <td>1.516588</td>\n",
                            "      <td>430.203324</td>\n",
                            "    </tr>\n",
                            "    <tr>\n",
                            "      <th>min</th>\n",
                            "      <td>5.300000e+01</td>\n",
                            "      <td>1.000000</td>\n",
                            "      <td>-157.948486</td>\n",
                            "      <td>-41.330428</td>\n",
                            "      <td>0.000000</td>\n",
                            "      <td>1.000000</td>\n",
                            "      <td>0.000000</td>\n",
                            "      <td>0.000000</td>\n",
                            "    </tr>\n",
                            "    <tr>\n",
                            "      <th>25%</th>\n",
                            "      <td>3.019312e+05</td>\n",
                            "      <td>1.000000</td>\n",
                            "      <td>77.081565</td>\n",
                            "      <td>28.478658</td>\n",
                            "      <td>250.000000</td>\n",
                            "      <td>1.000000</td>\n",
                            "      <td>2.500000</td>\n",
                            "      <td>5.000000</td>\n",
                            "    </tr>\n",
                            "    <tr>\n",
                            "      <th>50%</th>\n",
                            "      <td>6.002726e+06</td>\n",
                            "      <td>1.000000</td>\n",
                            "      <td>77.192031</td>\n",
                            "      <td>28.570444</td>\n",
                            "      <td>400.000000</td>\n",
                            "      <td>2.000000</td>\n",
                            "      <td>3.200000</td>\n",
                            "      <td>31.000000</td>\n",
                            "    </tr>\n",
                            "    <tr>\n",
                            "      <th>75%</th>\n",
                            "      <td>1.835260e+07</td>\n",
                            "      <td>1.000000</td>\n",
                            "      <td>77.282043</td>\n",
                            "      <td>28.642711</td>\n",
                            "      <td>700.000000</td>\n",
                            "      <td>2.000000</td>\n",
                            "      <td>3.700000</td>\n",
                            "      <td>130.000000</td>\n",
                            "    </tr>\n",
                            "    <tr>\n",
                            "      <th>max</th>\n",
                            "      <td>1.850065e+07</td>\n",
                            "      <td>216.000000</td>\n",
                            "      <td>174.832089</td>\n",
                            "      <td>55.976980</td>\n",
                            "      <td>800000.000000</td>\n",
                            "      <td>4.000000</td>\n",
                            "      <td>4.900000</td>\n",
                            "      <td>10934.000000</td>\n",
                            "    </tr>\n",
                            "  </tbody>\n",
                            "</table>\n",
                            "</div>"
                        ],
                        "text/plain": [
                            "       restaurant_id  country_code    longitude     latitude  \\\n",
                            "count   9.542000e+03   9542.000000  9542.000000  9542.000000   \n",
                            "mean    9.043301e+06     18.179208    64.274997    25.848532   \n",
                            "std     8.791967e+06     56.451600    41.197602    11.010094   \n",
                            "min     5.300000e+01      1.000000  -157.948486   -41.330428   \n",
                            "25%     3.019312e+05      1.000000    77.081565    28.478658   \n",
                            "50%     6.002726e+06      1.000000    77.192031    28.570444   \n",
                            "75%     1.835260e+07      1.000000    77.282043    28.642711   \n",
                            "max     1.850065e+07    216.000000   174.832089    55.976980   \n",
                            "\n",
                            "       average_cost_for_two  price_range  aggregate_rating         votes  \n",
                            "count           9542.000000  9542.000000       9542.000000   9542.000000  \n",
                            "mean            1200.326137     1.804968          2.665238    156.772060  \n",
                            "std            16128.743876     0.905563          1.516588    430.203324  \n",
                            "min                0.000000     1.000000          0.000000      0.000000  \n",
                            "25%              250.000000     1.000000          2.500000      5.000000  \n",
                            "50%              400.000000     2.000000          3.200000     31.000000  \n",
                            "75%              700.000000     2.000000          3.700000    130.000000  \n",
                            "max           800000.000000     4.000000          4.900000  10934.000000  "
                        ]
                    },
                    "execution_count": 9,
                    "metadata": {},
                    "output_type": "execute_result"
                }
            ],
            "source": [
                "# Statistiche descrittive\n",
                "df.describe()"
            ]
        },
        {
            "cell_type": "code",
            "execution_count": 10,
            "metadata": {},
            "outputs": [
                {
                    "data": {
                        "image/png": "[encoded data removed]",
                        "text/plain": [
                            "<Figure size 800x600 with 1 Axes>"
                        ]
                    },
                    "metadata": {},
                    "output_type": "display_data"
                }
            ],
            "source": [
                "# Distribuzione delle valutazioni\n",
                "plt.figure(figsize=(8, 6))\n",
                "\n",
                "# Count the occurrences of 'Yes' and 'No'\n",
                "counts = df['has_online_delivery'].value_counts()\n",
                "\n",
                "# Plot pie chart\n",
                "plt.pie(counts, labels=[\"No\", \"Yes\"])\n",
                "\n",
                "# Title and labels\n",
                "plt.title('Distribuzione delle Valutazioni')\n",
                "plt.show()\n",
                "\n",
                "\n"
            ]
        },
        {
            "cell_type": "markdown",
            "metadata": {},
            "source": [
                "Given that the data distribution was problematic, we dropped the following columns:\n",
                "- `has_table_booking`\n",
                "- `has_online_delivery`\n",
                "- `is_delivering_now`\n",
                "- `switch_to_order_menu`\n"
            ]
        },
        {
            "cell_type": "markdown",
            "metadata": {},
            "source": [
                "Now that we know how to format the dataset, we can moove to the SQL queries. We do so by saving the final CSV and importing it in SQL"
            ]
        },
        {
            "cell_type": "code",
            "execution_count": 11,
            "metadata": {},
            "outputs": [],
            "source": [
                "df.to_csv(\"new_dataset.csv\", index=False)"
            ]
        }
    ],
    "metadata": {
        "kernelspec": {
            "display_name": "base",
            "language": "python",
            "name": "python3"
        },
        "language_info": {
            "codemirror_mode": {
                "name": "ipython",
                "version": 3
            },
            "file_extension": ".py",
            "mimetype": "text/x-python",
            "name": "python",
            "nbconvert_exporter": "python",
            "pygments_lexer": "ipython3",
            "version": "3.12.2"
        }
    },
    "nbformat": 4,
    "nbformat_minor": 4
}
